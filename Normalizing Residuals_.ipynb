{
 "cells": [
  {
   "cell_type": "markdown",
   "metadata": {},
   "source": [
    "## Final Project Submission\n",
    "\n",
    "Please fill out:\n",
    "* Student name: \n",
    "* Student pace: self paced / part time / full time\n",
    "* Scheduled project review date/time: \n",
    "* Instructor name: \n",
    "* Blog post URL:\n"
   ]
  },
  {
   "cell_type": "markdown",
   "metadata": {},
   "source": [
    "Possible questions\n",
    "\n",
    "Does area income effect price of houses\n",
    "\n",
    "Does grade have an effect on housing price\n",
    "\n",
    "Does property size effect housing price\n",
    "\n",
    "Does Age of property effect price"
   ]
  },
  {
   "cell_type": "code",
   "execution_count": 1,
   "metadata": {},
   "outputs": [],
   "source": [
    "#find lat and long of city center then subtract out lat and long form it to find the difference \n",
    "# weak correlation to test in model Floor waterfront view and grade "
   ]
  },
  {
   "cell_type": "code",
   "execution_count": 2,
   "metadata": {},
   "outputs": [],
   "source": [
    "#Importing libraries\n",
    "import pandas as pd\n",
    "import matplotlib.pyplot as plt\n",
    "import matplotlib.image as mpimg\n",
    "import seaborn as sns\n",
    "import numpy as np\n",
    "from datetime import datetime\n",
    "import statsmodels.formula.api as smf\n",
    "import statsmodels.api as sm\n",
    "from statsmodels.stats.outliers_influence import variance_inflation_factor\n",
    "from sklearn.model_selection import train_test_split\n",
    "from sklearn import preprocessing\n",
    "from sklearn.linear_model import LinearRegression\n",
    "from sklearn.model_selection import cross_validate, ShuffleSplit\n",
    "from sklearn import metrics\n",
    "from scipy import stats\n",
    "import math\n",
    "from PIL import Image\n",
    "from sklearn.preprocessing import PolynomialFeatures\n",
    "from sklearn.metrics import r2_score\n",
    "from statsmodels.stats.diagnostic import het_breuschpagan\n",
    "from statsmodels.stats.diagnostic import het_white\n",
    "import statsmodels.stats.api as sms\n",
    "from statsmodels.stats.stattools import durbin_watson\n"
   ]
  },
  {
   "cell_type": "code",
   "execution_count": 3,
   "metadata": {},
   "outputs": [],
   "source": [
    "df = pd.read_csv(\"data/kc_house_data_no_miss_values.csv\")\n",
    "df =df.drop([\"Unnamed: 0\"], axis = 1)"
   ]
  },
  {
   "cell_type": "code",
   "execution_count": 4,
   "metadata": {},
   "outputs": [
    {
     "data": {
      "text/html": [
       "<div>\n",
       "<style scoped>\n",
       "    .dataframe tbody tr th:only-of-type {\n",
       "        vertical-align: middle;\n",
       "    }\n",
       "\n",
       "    .dataframe tbody tr th {\n",
       "        vertical-align: top;\n",
       "    }\n",
       "\n",
       "    .dataframe thead th {\n",
       "        text-align: right;\n",
       "    }\n",
       "</style>\n",
       "<table border=\"1\" class=\"dataframe\">\n",
       "  <thead>\n",
       "    <tr style=\"text-align: right;\">\n",
       "      <th></th>\n",
       "      <th>price</th>\n",
       "      <th>bedrooms</th>\n",
       "      <th>bathrooms</th>\n",
       "      <th>sqft_living</th>\n",
       "      <th>sqft_lot</th>\n",
       "      <th>floors</th>\n",
       "      <th>waterfront</th>\n",
       "      <th>view</th>\n",
       "      <th>condition</th>\n",
       "      <th>grade</th>\n",
       "      <th>...</th>\n",
       "      <th>zipcode</th>\n",
       "      <th>lat</th>\n",
       "      <th>long</th>\n",
       "      <th>sqft_living15</th>\n",
       "      <th>sqft_lot15</th>\n",
       "      <th>Income</th>\n",
       "      <th>house_age</th>\n",
       "      <th>year_sold</th>\n",
       "      <th>season</th>\n",
       "      <th>renovated</th>\n",
       "    </tr>\n",
       "  </thead>\n",
       "  <tbody>\n",
       "    <tr>\n",
       "      <th>0</th>\n",
       "      <td>221900.0</td>\n",
       "      <td>3</td>\n",
       "      <td>1.00</td>\n",
       "      <td>1180</td>\n",
       "      <td>5650</td>\n",
       "      <td>1.0</td>\n",
       "      <td>0</td>\n",
       "      <td>4</td>\n",
       "      <td>0</td>\n",
       "      <td>8</td>\n",
       "      <td>...</td>\n",
       "      <td>66</td>\n",
       "      <td>47.5112</td>\n",
       "      <td>-122.257</td>\n",
       "      <td>1340</td>\n",
       "      <td>5650</td>\n",
       "      <td>113555.0</td>\n",
       "      <td>67</td>\n",
       "      <td>2014</td>\n",
       "      <td>3</td>\n",
       "      <td>0</td>\n",
       "    </tr>\n",
       "    <tr>\n",
       "      <th>1</th>\n",
       "      <td>205425.0</td>\n",
       "      <td>2</td>\n",
       "      <td>1.00</td>\n",
       "      <td>880</td>\n",
       "      <td>6780</td>\n",
       "      <td>1.0</td>\n",
       "      <td>0</td>\n",
       "      <td>4</td>\n",
       "      <td>2</td>\n",
       "      <td>7</td>\n",
       "      <td>...</td>\n",
       "      <td>66</td>\n",
       "      <td>47.5009</td>\n",
       "      <td>-122.248</td>\n",
       "      <td>1190</td>\n",
       "      <td>6780</td>\n",
       "      <td>113555.0</td>\n",
       "      <td>77</td>\n",
       "      <td>2014</td>\n",
       "      <td>1</td>\n",
       "      <td>0</td>\n",
       "    </tr>\n",
       "    <tr>\n",
       "      <th>2</th>\n",
       "      <td>445000.0</td>\n",
       "      <td>3</td>\n",
       "      <td>2.25</td>\n",
       "      <td>2100</td>\n",
       "      <td>8201</td>\n",
       "      <td>1.0</td>\n",
       "      <td>0</td>\n",
       "      <td>0</td>\n",
       "      <td>0</td>\n",
       "      <td>9</td>\n",
       "      <td>...</td>\n",
       "      <td>66</td>\n",
       "      <td>47.5091</td>\n",
       "      <td>-122.244</td>\n",
       "      <td>2660</td>\n",
       "      <td>8712</td>\n",
       "      <td>113555.0</td>\n",
       "      <td>55</td>\n",
       "      <td>2014</td>\n",
       "      <td>2</td>\n",
       "      <td>0</td>\n",
       "    </tr>\n",
       "    <tr>\n",
       "      <th>3</th>\n",
       "      <td>236000.0</td>\n",
       "      <td>3</td>\n",
       "      <td>1.00</td>\n",
       "      <td>1300</td>\n",
       "      <td>5898</td>\n",
       "      <td>1.0</td>\n",
       "      <td>0</td>\n",
       "      <td>4</td>\n",
       "      <td>0</td>\n",
       "      <td>8</td>\n",
       "      <td>...</td>\n",
       "      <td>66</td>\n",
       "      <td>47.5053</td>\n",
       "      <td>-122.255</td>\n",
       "      <td>1320</td>\n",
       "      <td>7619</td>\n",
       "      <td>113555.0</td>\n",
       "      <td>61</td>\n",
       "      <td>2014</td>\n",
       "      <td>2</td>\n",
       "      <td>0</td>\n",
       "    </tr>\n",
       "    <tr>\n",
       "      <th>4</th>\n",
       "      <td>170000.0</td>\n",
       "      <td>2</td>\n",
       "      <td>1.00</td>\n",
       "      <td>860</td>\n",
       "      <td>5265</td>\n",
       "      <td>1.0</td>\n",
       "      <td>0</td>\n",
       "      <td>4</td>\n",
       "      <td>0</td>\n",
       "      <td>7</td>\n",
       "      <td>...</td>\n",
       "      <td>66</td>\n",
       "      <td>47.5048</td>\n",
       "      <td>-122.272</td>\n",
       "      <td>1650</td>\n",
       "      <td>8775</td>\n",
       "      <td>113555.0</td>\n",
       "      <td>91</td>\n",
       "      <td>2015</td>\n",
       "      <td>0</td>\n",
       "      <td>0</td>\n",
       "    </tr>\n",
       "    <tr>\n",
       "      <th>...</th>\n",
       "      <td>...</td>\n",
       "      <td>...</td>\n",
       "      <td>...</td>\n",
       "      <td>...</td>\n",
       "      <td>...</td>\n",
       "      <td>...</td>\n",
       "      <td>...</td>\n",
       "      <td>...</td>\n",
       "      <td>...</td>\n",
       "      <td>...</td>\n",
       "      <td>...</td>\n",
       "      <td>...</td>\n",
       "      <td>...</td>\n",
       "      <td>...</td>\n",
       "      <td>...</td>\n",
       "      <td>...</td>\n",
       "      <td>...</td>\n",
       "      <td>...</td>\n",
       "      <td>...</td>\n",
       "      <td>...</td>\n",
       "      <td>...</td>\n",
       "    </tr>\n",
       "    <tr>\n",
       "      <th>21415</th>\n",
       "      <td>2720000.0</td>\n",
       "      <td>4</td>\n",
       "      <td>3.25</td>\n",
       "      <td>3990</td>\n",
       "      <td>18115</td>\n",
       "      <td>2.0</td>\n",
       "      <td>0</td>\n",
       "      <td>4</td>\n",
       "      <td>2</td>\n",
       "      <td>1</td>\n",
       "      <td>...</td>\n",
       "      <td>24</td>\n",
       "      <td>47.6177</td>\n",
       "      <td>-122.229</td>\n",
       "      <td>3450</td>\n",
       "      <td>16087</td>\n",
       "      <td>7190.0</td>\n",
       "      <td>33</td>\n",
       "      <td>2014</td>\n",
       "      <td>3</td>\n",
       "      <td>0</td>\n",
       "    </tr>\n",
       "    <tr>\n",
       "      <th>21416</th>\n",
       "      <td>1950000.0</td>\n",
       "      <td>4</td>\n",
       "      <td>3.50</td>\n",
       "      <td>4065</td>\n",
       "      <td>18713</td>\n",
       "      <td>2.0</td>\n",
       "      <td>0</td>\n",
       "      <td>4</td>\n",
       "      <td>2</td>\n",
       "      <td>0</td>\n",
       "      <td>...</td>\n",
       "      <td>24</td>\n",
       "      <td>47.6209</td>\n",
       "      <td>-122.237</td>\n",
       "      <td>3070</td>\n",
       "      <td>18713</td>\n",
       "      <td>7190.0</td>\n",
       "      <td>35</td>\n",
       "      <td>2014</td>\n",
       "      <td>2</td>\n",
       "      <td>0</td>\n",
       "    </tr>\n",
       "    <tr>\n",
       "      <th>21417</th>\n",
       "      <td>2250000.0</td>\n",
       "      <td>5</td>\n",
       "      <td>5.25</td>\n",
       "      <td>3410</td>\n",
       "      <td>8118</td>\n",
       "      <td>2.0</td>\n",
       "      <td>0</td>\n",
       "      <td>4</td>\n",
       "      <td>0</td>\n",
       "      <td>1</td>\n",
       "      <td>...</td>\n",
       "      <td>24</td>\n",
       "      <td>47.6295</td>\n",
       "      <td>-122.236</td>\n",
       "      <td>3410</td>\n",
       "      <td>16236</td>\n",
       "      <td>7190.0</td>\n",
       "      <td>16</td>\n",
       "      <td>2015</td>\n",
       "      <td>1</td>\n",
       "      <td>0</td>\n",
       "    </tr>\n",
       "    <tr>\n",
       "      <th>21418</th>\n",
       "      <td>2900000.0</td>\n",
       "      <td>5</td>\n",
       "      <td>4.00</td>\n",
       "      <td>5190</td>\n",
       "      <td>14600</td>\n",
       "      <td>2.0</td>\n",
       "      <td>0</td>\n",
       "      <td>2</td>\n",
       "      <td>0</td>\n",
       "      <td>1</td>\n",
       "      <td>...</td>\n",
       "      <td>24</td>\n",
       "      <td>47.6102</td>\n",
       "      <td>-122.225</td>\n",
       "      <td>3840</td>\n",
       "      <td>19250</td>\n",
       "      <td>7190.0</td>\n",
       "      <td>9</td>\n",
       "      <td>2014</td>\n",
       "      <td>3</td>\n",
       "      <td>0</td>\n",
       "    </tr>\n",
       "    <tr>\n",
       "      <th>21419</th>\n",
       "      <td>1870000.0</td>\n",
       "      <td>4</td>\n",
       "      <td>3.75</td>\n",
       "      <td>3790</td>\n",
       "      <td>8797</td>\n",
       "      <td>2.0</td>\n",
       "      <td>0</td>\n",
       "      <td>4</td>\n",
       "      <td>0</td>\n",
       "      <td>1</td>\n",
       "      <td>...</td>\n",
       "      <td>24</td>\n",
       "      <td>47.6351</td>\n",
       "      <td>-122.236</td>\n",
       "      <td>2660</td>\n",
       "      <td>12150</td>\n",
       "      <td>7190.0</td>\n",
       "      <td>16</td>\n",
       "      <td>2015</td>\n",
       "      <td>0</td>\n",
       "      <td>0</td>\n",
       "    </tr>\n",
       "  </tbody>\n",
       "</table>\n",
       "<p>21420 rows × 24 columns</p>\n",
       "</div>"
      ],
      "text/plain": [
       "           price  bedrooms  bathrooms  sqft_living  sqft_lot  floors  \\\n",
       "0       221900.0         3       1.00         1180      5650     1.0   \n",
       "1       205425.0         2       1.00          880      6780     1.0   \n",
       "2       445000.0         3       2.25         2100      8201     1.0   \n",
       "3       236000.0         3       1.00         1300      5898     1.0   \n",
       "4       170000.0         2       1.00          860      5265     1.0   \n",
       "...          ...       ...        ...          ...       ...     ...   \n",
       "21415  2720000.0         4       3.25         3990     18115     2.0   \n",
       "21416  1950000.0         4       3.50         4065     18713     2.0   \n",
       "21417  2250000.0         5       5.25         3410      8118     2.0   \n",
       "21418  2900000.0         5       4.00         5190     14600     2.0   \n",
       "21419  1870000.0         4       3.75         3790      8797     2.0   \n",
       "\n",
       "       waterfront  view  condition  grade  ...  zipcode      lat     long  \\\n",
       "0               0     4          0      8  ...       66  47.5112 -122.257   \n",
       "1               0     4          2      7  ...       66  47.5009 -122.248   \n",
       "2               0     0          0      9  ...       66  47.5091 -122.244   \n",
       "3               0     4          0      8  ...       66  47.5053 -122.255   \n",
       "4               0     4          0      7  ...       66  47.5048 -122.272   \n",
       "...           ...   ...        ...    ...  ...      ...      ...      ...   \n",
       "21415           0     4          2      1  ...       24  47.6177 -122.229   \n",
       "21416           0     4          2      0  ...       24  47.6209 -122.237   \n",
       "21417           0     4          0      1  ...       24  47.6295 -122.236   \n",
       "21418           0     2          0      1  ...       24  47.6102 -122.225   \n",
       "21419           0     4          0      1  ...       24  47.6351 -122.236   \n",
       "\n",
       "       sqft_living15  sqft_lot15    Income  house_age  year_sold  season  \\\n",
       "0               1340        5650  113555.0         67       2014       3   \n",
       "1               1190        6780  113555.0         77       2014       1   \n",
       "2               2660        8712  113555.0         55       2014       2   \n",
       "3               1320        7619  113555.0         61       2014       2   \n",
       "4               1650        8775  113555.0         91       2015       0   \n",
       "...              ...         ...       ...        ...        ...     ...   \n",
       "21415           3450       16087    7190.0         33       2014       3   \n",
       "21416           3070       18713    7190.0         35       2014       2   \n",
       "21417           3410       16236    7190.0         16       2015       1   \n",
       "21418           3840       19250    7190.0          9       2014       3   \n",
       "21419           2660       12150    7190.0         16       2015       0   \n",
       "\n",
       "       renovated  \n",
       "0              0  \n",
       "1              0  \n",
       "2              0  \n",
       "3              0  \n",
       "4              0  \n",
       "...          ...  \n",
       "21415          0  \n",
       "21416          0  \n",
       "21417          0  \n",
       "21418          0  \n",
       "21419          0  \n",
       "\n",
       "[21420 rows x 24 columns]"
      ]
     },
     "execution_count": 4,
     "metadata": {},
     "output_type": "execute_result"
    }
   ],
   "source": [
    "df"
   ]
  },
  {
   "cell_type": "markdown",
   "metadata": {},
   "source": [
    "Initial Model"
   ]
  },
  {
   "cell_type": "markdown",
   "metadata": {},
   "source": [
    "Possibly drop\n",
    "\n",
    "br : sqft liv\n",
    "\n",
    "sqft liv 15 : sqft liv\n",
    "\n",
    "sqft above : sqft liv\n",
    "\n",
    "sqft lot 15 : sqft lot\n",
    "\n",
    "\n",
    "\n",
    "Keep sqft_living, drop sqft_above, sqft_living15 due to high collinearity \n",
    "\n",
    "Keep sqft_lot drop sqft_lot15"
   ]
  },
  {
   "cell_type": "markdown",
   "metadata": {},
   "source": [
    "df = df.drop([\"sqft_above\", \"sqft_living15\", \"sqft_lot15\", \"lat\", \"long\" ], axis=1)"
   ]
  },
  {
   "cell_type": "markdown",
   "metadata": {},
   "source": [
    "Although the above table shows that there is a high collinearity between bedrooms and sqft_living, we believe that the number of bedrooms will play a key role in the price of the home, will revisit after modeling to verify if we need"
   ]
  },
  {
   "cell_type": "code",
   "execution_count": 5,
   "metadata": {},
   "outputs": [],
   "source": [
    "X = df.drop(\"price\", axis=1)\n",
    "y= df[\"price\"]"
   ]
  },
  {
   "cell_type": "markdown",
   "metadata": {},
   "source": [
    "## Normalizing Our Data"
   ]
  },
  {
   "cell_type": "code",
   "execution_count": 6,
   "metadata": {
    "scrolled": false
   },
   "outputs": [
    {
     "data": {
      "image/png": "[encoded data removed]",
      "text/plain": [
       "<Figure size 864x3456 with 24 Axes>"
      ]
     },
     "metadata": {
      "needs_background": "light"
     },
     "output_type": "display_data"
    }
   ],
   "source": [
    "fig, axes = plt.subplots(len(df.columns)//3, 3, figsize=(12, 48))\n",
    "\n",
    "i = 0\n",
    "for triaxis in axes:\n",
    "    for axis in triaxis:\n",
    "        df.hist(column = df.columns[i], bins = 100, ax=axis)\n",
    "        i = i+1"
   ]
  },
  {
   "cell_type": "code",
   "execution_count": 7,
   "metadata": {
    "scrolled": true
   },
   "outputs": [
    {
     "name": "stderr",
     "output_type": "stream",
     "text": [
      "/Users/valeriaviscarra/opt/anaconda3/envs/learn-env/lib/python3.8/site-packages/pandas/core/series.py:726: RuntimeWarning: divide by zero encountered in log\n",
      "  result = getattr(ufunc, method)(*inputs, **kwargs)\n",
      "/Users/valeriaviscarra/opt/anaconda3/envs/learn-env/lib/python3.8/site-packages/pandas/core/series.py:726: RuntimeWarning: invalid value encountered in log\n",
      "  result = getattr(ufunc, method)(*inputs, **kwargs)\n"
     ]
    },
    {
     "data": {
      "text/html": [
       "<div>\n",
       "<style scoped>\n",
       "    .dataframe tbody tr th:only-of-type {\n",
       "        vertical-align: middle;\n",
       "    }\n",
       "\n",
       "    .dataframe tbody tr th {\n",
       "        vertical-align: top;\n",
       "    }\n",
       "\n",
       "    .dataframe thead th {\n",
       "        text-align: right;\n",
       "    }\n",
       "</style>\n",
       "<table border=\"1\" class=\"dataframe\">\n",
       "  <thead>\n",
       "    <tr style=\"text-align: right;\">\n",
       "      <th></th>\n",
       "      <th>price</th>\n",
       "      <th>bedrooms</th>\n",
       "      <th>bathrooms</th>\n",
       "      <th>sqft_living</th>\n",
       "      <th>sqft_lot</th>\n",
       "      <th>floors</th>\n",
       "      <th>waterfront</th>\n",
       "      <th>view</th>\n",
       "      <th>condition</th>\n",
       "      <th>grade</th>\n",
       "      <th>...</th>\n",
       "      <th>zipcode</th>\n",
       "      <th>lat</th>\n",
       "      <th>long</th>\n",
       "      <th>sqft_living15</th>\n",
       "      <th>sqft_lot15</th>\n",
       "      <th>Income</th>\n",
       "      <th>house_age</th>\n",
       "      <th>year_sold</th>\n",
       "      <th>season</th>\n",
       "      <th>renovated</th>\n",
       "    </tr>\n",
       "  </thead>\n",
       "  <tbody>\n",
       "    <tr>\n",
       "      <th>0</th>\n",
       "      <td>12.309982</td>\n",
       "      <td>1.098612</td>\n",
       "      <td>0.000000</td>\n",
       "      <td>7.073270</td>\n",
       "      <td>8.639411</td>\n",
       "      <td>0.000000</td>\n",
       "      <td>-inf</td>\n",
       "      <td>1.386294</td>\n",
       "      <td>-inf</td>\n",
       "      <td>2.079442</td>\n",
       "      <td>...</td>\n",
       "      <td>4.189655</td>\n",
       "      <td>3.860965</td>\n",
       "      <td>NaN</td>\n",
       "      <td>7.200425</td>\n",
       "      <td>8.639411</td>\n",
       "      <td>11.640043</td>\n",
       "      <td>4.204693</td>\n",
       "      <td>7.607878</td>\n",
       "      <td>1.098612</td>\n",
       "      <td>-inf</td>\n",
       "    </tr>\n",
       "    <tr>\n",
       "      <th>1</th>\n",
       "      <td>12.232836</td>\n",
       "      <td>0.693147</td>\n",
       "      <td>0.000000</td>\n",
       "      <td>6.779922</td>\n",
       "      <td>8.821732</td>\n",
       "      <td>0.000000</td>\n",
       "      <td>-inf</td>\n",
       "      <td>1.386294</td>\n",
       "      <td>0.693147</td>\n",
       "      <td>1.945910</td>\n",
       "      <td>...</td>\n",
       "      <td>4.189655</td>\n",
       "      <td>3.860749</td>\n",
       "      <td>NaN</td>\n",
       "      <td>7.081709</td>\n",
       "      <td>8.821732</td>\n",
       "      <td>11.640043</td>\n",
       "      <td>4.343805</td>\n",
       "      <td>7.607878</td>\n",
       "      <td>0.000000</td>\n",
       "      <td>-inf</td>\n",
       "    </tr>\n",
       "    <tr>\n",
       "      <th>2</th>\n",
       "      <td>13.005830</td>\n",
       "      <td>1.098612</td>\n",
       "      <td>0.810930</td>\n",
       "      <td>7.649693</td>\n",
       "      <td>9.012011</td>\n",
       "      <td>0.000000</td>\n",
       "      <td>-inf</td>\n",
       "      <td>-inf</td>\n",
       "      <td>-inf</td>\n",
       "      <td>2.197225</td>\n",
       "      <td>...</td>\n",
       "      <td>4.189655</td>\n",
       "      <td>3.860921</td>\n",
       "      <td>NaN</td>\n",
       "      <td>7.886081</td>\n",
       "      <td>9.072457</td>\n",
       "      <td>11.640043</td>\n",
       "      <td>4.007333</td>\n",
       "      <td>7.607878</td>\n",
       "      <td>0.693147</td>\n",
       "      <td>-inf</td>\n",
       "    </tr>\n",
       "    <tr>\n",
       "      <th>3</th>\n",
       "      <td>12.371587</td>\n",
       "      <td>1.098612</td>\n",
       "      <td>0.000000</td>\n",
       "      <td>7.170120</td>\n",
       "      <td>8.682369</td>\n",
       "      <td>0.000000</td>\n",
       "      <td>-inf</td>\n",
       "      <td>1.386294</td>\n",
       "      <td>-inf</td>\n",
       "      <td>2.079442</td>\n",
       "      <td>...</td>\n",
       "      <td>4.189655</td>\n",
       "      <td>3.860841</td>\n",
       "      <td>NaN</td>\n",
       "      <td>7.185387</td>\n",
       "      <td>8.938400</td>\n",
       "      <td>11.640043</td>\n",
       "      <td>4.110874</td>\n",
       "      <td>7.607878</td>\n",
       "      <td>0.693147</td>\n",
       "      <td>-inf</td>\n",
       "    </tr>\n",
       "    <tr>\n",
       "      <th>4</th>\n",
       "      <td>12.043554</td>\n",
       "      <td>0.693147</td>\n",
       "      <td>0.000000</td>\n",
       "      <td>6.756932</td>\n",
       "      <td>8.568836</td>\n",
       "      <td>0.000000</td>\n",
       "      <td>-inf</td>\n",
       "      <td>1.386294</td>\n",
       "      <td>-inf</td>\n",
       "      <td>1.945910</td>\n",
       "      <td>...</td>\n",
       "      <td>4.189655</td>\n",
       "      <td>3.860831</td>\n",
       "      <td>NaN</td>\n",
       "      <td>7.408531</td>\n",
       "      <td>9.079662</td>\n",
       "      <td>11.640043</td>\n",
       "      <td>4.510860</td>\n",
       "      <td>7.608374</td>\n",
       "      <td>-inf</td>\n",
       "      <td>-inf</td>\n",
       "    </tr>\n",
       "    <tr>\n",
       "      <th>...</th>\n",
       "      <td>...</td>\n",
       "      <td>...</td>\n",
       "      <td>...</td>\n",
       "      <td>...</td>\n",
       "      <td>...</td>\n",
       "      <td>...</td>\n",
       "      <td>...</td>\n",
       "      <td>...</td>\n",
       "      <td>...</td>\n",
       "      <td>...</td>\n",
       "      <td>...</td>\n",
       "      <td>...</td>\n",
       "      <td>...</td>\n",
       "      <td>...</td>\n",
       "      <td>...</td>\n",
       "      <td>...</td>\n",
       "      <td>...</td>\n",
       "      <td>...</td>\n",
       "      <td>...</td>\n",
       "      <td>...</td>\n",
       "      <td>...</td>\n",
       "    </tr>\n",
       "    <tr>\n",
       "      <th>21415</th>\n",
       "      <td>14.816142</td>\n",
       "      <td>1.386294</td>\n",
       "      <td>1.178655</td>\n",
       "      <td>8.291547</td>\n",
       "      <td>9.804496</td>\n",
       "      <td>0.693147</td>\n",
       "      <td>-inf</td>\n",
       "      <td>1.386294</td>\n",
       "      <td>0.693147</td>\n",
       "      <td>0.000000</td>\n",
       "      <td>...</td>\n",
       "      <td>3.178054</td>\n",
       "      <td>3.863205</td>\n",
       "      <td>NaN</td>\n",
       "      <td>8.146130</td>\n",
       "      <td>9.685767</td>\n",
       "      <td>8.880446</td>\n",
       "      <td>3.496508</td>\n",
       "      <td>7.607878</td>\n",
       "      <td>1.098612</td>\n",
       "      <td>-inf</td>\n",
       "    </tr>\n",
       "    <tr>\n",
       "      <th>21416</th>\n",
       "      <td>14.483340</td>\n",
       "      <td>1.386294</td>\n",
       "      <td>1.252763</td>\n",
       "      <td>8.310169</td>\n",
       "      <td>9.836974</td>\n",
       "      <td>0.693147</td>\n",
       "      <td>-inf</td>\n",
       "      <td>1.386294</td>\n",
       "      <td>0.693147</td>\n",
       "      <td>-inf</td>\n",
       "      <td>...</td>\n",
       "      <td>3.178054</td>\n",
       "      <td>3.863272</td>\n",
       "      <td>NaN</td>\n",
       "      <td>8.029433</td>\n",
       "      <td>9.836974</td>\n",
       "      <td>8.880446</td>\n",
       "      <td>3.555348</td>\n",
       "      <td>7.607878</td>\n",
       "      <td>0.693147</td>\n",
       "      <td>-inf</td>\n",
       "    </tr>\n",
       "    <tr>\n",
       "      <th>21417</th>\n",
       "      <td>14.626441</td>\n",
       "      <td>1.609438</td>\n",
       "      <td>1.658228</td>\n",
       "      <td>8.134468</td>\n",
       "      <td>9.001839</td>\n",
       "      <td>0.693147</td>\n",
       "      <td>-inf</td>\n",
       "      <td>1.386294</td>\n",
       "      <td>-inf</td>\n",
       "      <td>0.000000</td>\n",
       "      <td>...</td>\n",
       "      <td>3.178054</td>\n",
       "      <td>3.863452</td>\n",
       "      <td>NaN</td>\n",
       "      <td>8.134468</td>\n",
       "      <td>9.694986</td>\n",
       "      <td>8.880446</td>\n",
       "      <td>2.772589</td>\n",
       "      <td>7.608374</td>\n",
       "      <td>0.000000</td>\n",
       "      <td>-inf</td>\n",
       "    </tr>\n",
       "    <tr>\n",
       "      <th>21418</th>\n",
       "      <td>14.880221</td>\n",
       "      <td>1.609438</td>\n",
       "      <td>1.386294</td>\n",
       "      <td>8.554489</td>\n",
       "      <td>9.588777</td>\n",
       "      <td>0.693147</td>\n",
       "      <td>-inf</td>\n",
       "      <td>0.693147</td>\n",
       "      <td>-inf</td>\n",
       "      <td>0.000000</td>\n",
       "      <td>...</td>\n",
       "      <td>3.178054</td>\n",
       "      <td>3.863047</td>\n",
       "      <td>NaN</td>\n",
       "      <td>8.253228</td>\n",
       "      <td>9.865266</td>\n",
       "      <td>8.880446</td>\n",
       "      <td>2.197225</td>\n",
       "      <td>7.607878</td>\n",
       "      <td>1.098612</td>\n",
       "      <td>-inf</td>\n",
       "    </tr>\n",
       "    <tr>\n",
       "      <th>21419</th>\n",
       "      <td>14.441449</td>\n",
       "      <td>1.386294</td>\n",
       "      <td>1.321756</td>\n",
       "      <td>8.240121</td>\n",
       "      <td>9.082166</td>\n",
       "      <td>0.693147</td>\n",
       "      <td>-inf</td>\n",
       "      <td>1.386294</td>\n",
       "      <td>-inf</td>\n",
       "      <td>0.000000</td>\n",
       "      <td>...</td>\n",
       "      <td>3.178054</td>\n",
       "      <td>3.863570</td>\n",
       "      <td>NaN</td>\n",
       "      <td>7.886081</td>\n",
       "      <td>9.405084</td>\n",
       "      <td>8.880446</td>\n",
       "      <td>2.772589</td>\n",
       "      <td>7.608374</td>\n",
       "      <td>-inf</td>\n",
       "      <td>-inf</td>\n",
       "    </tr>\n",
       "  </tbody>\n",
       "</table>\n",
       "<p>21420 rows × 24 columns</p>\n",
       "</div>"
      ],
      "text/plain": [
       "           price  bedrooms  bathrooms  sqft_living  sqft_lot    floors  \\\n",
       "0      12.309982  1.098612   0.000000     7.073270  8.639411  0.000000   \n",
       "1      12.232836  0.693147   0.000000     6.779922  8.821732  0.000000   \n",
       "2      13.005830  1.098612   0.810930     7.649693  9.012011  0.000000   \n",
       "3      12.371587  1.098612   0.000000     7.170120  8.682369  0.000000   \n",
       "4      12.043554  0.693147   0.000000     6.756932  8.568836  0.000000   \n",
       "...          ...       ...        ...          ...       ...       ...   \n",
       "21415  14.816142  1.386294   1.178655     8.291547  9.804496  0.693147   \n",
       "21416  14.483340  1.386294   1.252763     8.310169  9.836974  0.693147   \n",
       "21417  14.626441  1.609438   1.658228     8.134468  9.001839  0.693147   \n",
       "21418  14.880221  1.609438   1.386294     8.554489  9.588777  0.693147   \n",
       "21419  14.441449  1.386294   1.321756     8.240121  9.082166  0.693147   \n",
       "\n",
       "       waterfront      view  condition     grade  ...   zipcode       lat  \\\n",
       "0            -inf  1.386294       -inf  2.079442  ...  4.189655  3.860965   \n",
       "1            -inf  1.386294   0.693147  1.945910  ...  4.189655  3.860749   \n",
       "2            -inf      -inf       -inf  2.197225  ...  4.189655  3.860921   \n",
       "3            -inf  1.386294       -inf  2.079442  ...  4.189655  3.860841   \n",
       "4            -inf  1.386294       -inf  1.945910  ...  4.189655  3.860831   \n",
       "...           ...       ...        ...       ...  ...       ...       ...   \n",
       "21415        -inf  1.386294   0.693147  0.000000  ...  3.178054  3.863205   \n",
       "21416        -inf  1.386294   0.693147      -inf  ...  3.178054  3.863272   \n",
       "21417        -inf  1.386294       -inf  0.000000  ...  3.178054  3.863452   \n",
       "21418        -inf  0.693147       -inf  0.000000  ...  3.178054  3.863047   \n",
       "21419        -inf  1.386294       -inf  0.000000  ...  3.178054  3.863570   \n",
       "\n",
       "       long  sqft_living15  sqft_lot15     Income  house_age  year_sold  \\\n",
       "0       NaN       7.200425    8.639411  11.640043   4.204693   7.607878   \n",
       "1       NaN       7.081709    8.821732  11.640043   4.343805   7.607878   \n",
       "2       NaN       7.886081    9.072457  11.640043   4.007333   7.607878   \n",
       "3       NaN       7.185387    8.938400  11.640043   4.110874   7.607878   \n",
       "4       NaN       7.408531    9.079662  11.640043   4.510860   7.608374   \n",
       "...     ...            ...         ...        ...        ...        ...   \n",
       "21415   NaN       8.146130    9.685767   8.880446   3.496508   7.607878   \n",
       "21416   NaN       8.029433    9.836974   8.880446   3.555348   7.607878   \n",
       "21417   NaN       8.134468    9.694986   8.880446   2.772589   7.608374   \n",
       "21418   NaN       8.253228    9.865266   8.880446   2.197225   7.607878   \n",
       "21419   NaN       7.886081    9.405084   8.880446   2.772589   7.608374   \n",
       "\n",
       "         season  renovated  \n",
       "0      1.098612       -inf  \n",
       "1      0.000000       -inf  \n",
       "2      0.693147       -inf  \n",
       "3      0.693147       -inf  \n",
       "4          -inf       -inf  \n",
       "...         ...        ...  \n",
       "21415  1.098612       -inf  \n",
       "21416  0.693147       -inf  \n",
       "21417  0.000000       -inf  \n",
       "21418  1.098612       -inf  \n",
       "21419      -inf       -inf  \n",
       "\n",
       "[21420 rows x 24 columns]"
      ]
     },
     "execution_count": 7,
     "metadata": {},
     "output_type": "execute_result"
    }
   ],
   "source": [
    "df = df.apply(lambda x: np.log(x), axis='rows')\n",
    "df"
   ]
  },
  {
   "cell_type": "code",
   "execution_count": null,
   "metadata": {},
   "outputs": [],
   "source": [
    "# df_log = pd.DataFrame()\n",
    "# df_log['price'] = df['price'].map(lambda x: np.log(x))\n",
    "# df_log['bedrooms'] = df['bedrooms'].map(lambda x: np.log(x))\n",
    "# df_log['bathrooms'] = df['bathrooms'].map(lambda x: np.log(x+1))\n",
    "# df_log['sqft_living'] = df['sqft_living'].map(lambda x: np.log(x))\n",
    "# df_log['sqft_lot'] = df['sqft_lot'].map(lambda x: np.log(x))\n",
    "# df_log['floors'] = df['floors'].map(lambda x: np.log(x))\n",
    "# #df_log['waterfront'] = df['waterfront'].map(lambda x: np.log(x)): \n",
    "# #<ipython-input-19-3d82fac611a8>:8: RuntimeWarning: divide by zero encountered in log\n",
    "# df_log['view'] = df['view'].map(lambda x: np.log(x))\n",
    "# df_log['condition'] = df['condition'].map(lambda x: np.log(x))\n",
    "# df_log['graden'] = df['grade'].map(lambda x: np.log(x))\n",
    "# df_log['sqft_above'] = df['sqft_above'].map(lambda x: np.log(x))\n",
    "# df_log['sqft_basement'] = df['sqft_basement'].map(lambda x: np.log(x))\n",
    "# df_log['yr_built'] = df['yr_built'].map(lambda x: np.log(x))\n",
    "# df_log['yr_renovated'] = df['yr_renovated'].map(lambda x: np.log(x))\n",
    "# df_log['zipcode'] = df['zipcode'].map(lambda x: np.log(x))\n",
    "# df_log['lat'] = df['lat'].map(lambda x: np.log(x))\n",
    "# df_log['long'] = df['long'].map(lambda x: np.log(x))\n",
    "# df_log['sqft_living15'] = df['sqft_living15'].map(lambda x: np.log(x))\n",
    "# df_log['sqft_lot15'] = df['sqft_lot15'].map(lambda x: np.log(x))\n",
    "# df_log['Income'] = df['Income'].map(lambda x: np.log(x))\n",
    "# df_log['house_age'] = df['house_age'].map(lambda x: np.log(x))\n",
    "# df_log['year_sold'] = df['year_sold'].map(lambda x: np.log(x))\n",
    "# df_log['season'] = df['season'].map(lambda x: np.log(x)).map(lambda x: np.log(x))\n",
    "# df_log['renovated'] = df['renovated'].map(lambda x: np.log(x))\n",
    "\n",
    "# df_log.head()"
   ]
  },
  {
   "cell_type": "markdown",
   "metadata": {},
   "source": [
    "df_log = pd.DataFrame()\n",
    "df_log['price'] = df['price'].map(lambda x: np.log(x))\n",
    "\n",
    "df_log.head()"
   ]
  },
  {
   "cell_type": "code",
   "execution_count": null,
   "metadata": {},
   "outputs": [],
   "source": [
    "fig, axes = plt.subplots(len(df.columns)//3, 3, figsize=(12, 48))\n",
    "\n",
    "i = 0\n",
    "for triaxis in axes:\n",
    "    for axis in triaxis:\n",
    "        df.hist(column = df_log.columns[i], bins = 100, ax=axis)\n",
    "        i = i+1"
   ]
  },
  {
   "cell_type": "code",
   "execution_count": null,
   "metadata": {},
   "outputs": [],
   "source": [
    "from sklearn.preprocessing import MinMaxScaler\n",
    "scaler = MinMaxScaler()\n",
    "scaled = scaler.fit_transform(df_log)\n",
    "scaled_df = pd.DataFrame(scaled)\n",
    "column_dict = dict(zip(scaled_df.columns, df_log.columns))\n",
    "\n",
    "scaled_df.rename(columns=column_dict, inplace=True)\n",
    "scaled_df.head()"
   ]
  },
  {
   "cell_type": "code",
   "execution_count": null,
   "metadata": {},
   "outputs": [],
   "source": [
    "outcome = 'price'\n",
    "predictors_scaled = scaled_df.drop(['price'], axis=1)\n",
    "pred_scaled_sum = '+'.join(predictors_scaled.columns)\n",
    "formula_scaled = outcome + '~' + pred_scaled_sum\n",
    "\n",
    "model = ols(formula = formula_scaled, data=scaled_df).fit()\n",
    "model.summary()"
   ]
  },
  {
   "cell_type": "code",
   "execution_count": null,
   "metadata": {},
   "outputs": [],
   "source": [
    "X_train, X_test, y_train, y_test = train_test_split(X, y, test_size=0.2, random_state=42)"
   ]
  },
  {
   "cell_type": "code",
   "execution_count": null,
   "metadata": {},
   "outputs": [],
   "source": [
    "X_train.dtypes"
   ]
  },
  {
   "cell_type": "code",
   "execution_count": null,
   "metadata": {},
   "outputs": [],
   "source": [
    "X_train = X_train.apply(pd.to_numeric)"
   ]
  },
  {
   "cell_type": "code",
   "execution_count": null,
   "metadata": {},
   "outputs": [],
   "source": [
    "X_train"
   ]
  },
  {
   "cell_type": "code",
   "execution_count": null,
   "metadata": {
    "scrolled": true
   },
   "outputs": [],
   "source": [
    "from sklearn.feature_selection import RFECV\n",
    "from sklearn.preprocessing import StandardScaler\n",
    "\n",
    "# Importances are based on coefficient magnitude, so\n",
    "# we need to scale the data to normalize the coefficients\n",
    "X_train_for_RFECV = StandardScaler().fit_transform(X_train)\n",
    "\n",
    "model_for_RFECV = LinearRegression()\n",
    "\n",
    "# Instantiate and fit the selector\n",
    "selector = RFECV(model_for_RFECV, min_features_to_select=10 ,cv=splitter)\n",
    "selector.fit(X_train, y_train)\n",
    "\n",
    "# Print the results\n",
    "print(\"Was the column selected?\")\n",
    "for index, col in enumerate(X_train.columns):\n",
    "    print(f\"{col}: {selector.support_[index]}\")\n",
    "####updated # of features"
   ]
  },
  {
   "cell_type": "code",
   "execution_count": null,
   "metadata": {},
   "outputs": [],
   "source": [
    "print(X_train.shape)\n",
    "print(X_test.shape)\n",
    "print(y_train.shape)\n",
    "print(y_test.shape)"
   ]
  },
  {
   "cell_type": "raw",
   "metadata": {},
   "source": [
    "X_train = df.drop(\"price\", axis=1)\n",
    "y_train = df[\"price\"]\n",
    "\n",
    "X_test = df.drop(\"price\", axis=1)\n",
    "y_test = df[\"price\"]\n",
    "\n",
    "X_train"
   ]
  },
  {
   "cell_type": "code",
   "execution_count": null,
   "metadata": {},
   "outputs": [],
   "source": [
    "baseline_model = LinearRegression()\n",
    "\n",
    "splitter = ShuffleSplit(n_splits=3, test_size=0.25, random_state=0)\n",
    "\n",
    "baseline_scores = cross_validate(\n",
    "    estimator=baseline_model,\n",
    "    X=X_train[[\"sqft_living\"]],\n",
    "    y=y_train,\n",
    "    return_train_score=True,\n",
    "    cv=splitter\n",
    ")\n",
    "\n",
    "print(\"Train score:     \", baseline_scores[\"train_score\"].mean())\n",
    "print(\"Validation score:\", baseline_scores[\"test_score\"].mean())"
   ]
  },
  {
   "cell_type": "code",
   "execution_count": null,
   "metadata": {},
   "outputs": [],
   "source": [
    "df_numerical = df[['price', 'bedrooms','bathrooms', 'sqft_living', 'floors', 'sqft_lot', 'sqft_basement', 'sqft_living15', 'sqft_lot15','Income',]].copy()"
   ]
  },
  {
   "cell_type": "code",
   "execution_count": null,
   "metadata": {},
   "outputs": [],
   "source": [
    "df_numerical1 = df[['price', 'bedrooms','bathrooms', 'sqft_living', 'floors', 'sqft_lot', 'sqft_basement', 'Income',]].copy()"
   ]
  },
  {
   "cell_type": "code",
   "execution_count": null,
   "metadata": {},
   "outputs": [],
   "source": [
    "vif = pd.DataFrame()\n",
    "vif[\"VIF Factor\"] = [variance_inflation_factor(df_numerical.values, i) for i in range(df_numerical.shape[1])]\n",
    "vif[\"features\"] = df_numerical.columns\n",
    "vif.round(2)"
   ]
  },
  {
   "cell_type": "markdown",
   "metadata": {},
   "source": [
    "Checking Data"
   ]
  },
  {
   "cell_type": "code",
   "execution_count": null,
   "metadata": {},
   "outputs": [],
   "source": [
    "y = df[\"price\"]\n",
    "X = df.drop(\"price\", axis=1)"
   ]
  },
  {
   "cell_type": "code",
   "execution_count": null,
   "metadata": {},
   "outputs": [],
   "source": [
    "X.columns"
   ]
  },
  {
   "cell_type": "code",
   "execution_count": null,
   "metadata": {},
   "outputs": [],
   "source": [
    "pd.set_option('display.max_columns', None)\n",
    "X"
   ]
  },
  {
   "cell_type": "code",
   "execution_count": null,
   "metadata": {},
   "outputs": [],
   "source": [
    "y"
   ]
  },
  {
   "cell_type": "code",
   "execution_count": null,
   "metadata": {},
   "outputs": [],
   "source": [
    "model = sm.OLS(y, sm.add_constant(X), missing = \"drop\").fit()\n",
    "results = model.summary()\n",
    "print(results)"
   ]
  },
  {
   "cell_type": "code",
   "execution_count": null,
   "metadata": {},
   "outputs": [],
   "source": [
    "print(X_train.shape)\n",
    "print(X_test.shape)\n",
    "print(y_train.shape)\n",
    "print(y_test.shape)"
   ]
  },
  {
   "cell_type": "code",
   "execution_count": null,
   "metadata": {},
   "outputs": [],
   "source": [
    "data_transformation = preprocessing.StandardScaler()\n",
    "data = data_transformation.fit_transform(X_train)\n",
    "data"
   ]
  },
  {
   "cell_type": "code",
   "execution_count": null,
   "metadata": {},
   "outputs": [],
   "source": [
    "df"
   ]
  },
  {
   "cell_type": "code",
   "execution_count": null,
   "metadata": {},
   "outputs": [],
   "source": [
    "df2 = df.to_numpy()"
   ]
  },
  {
   "cell_type": "code",
   "execution_count": null,
   "metadata": {},
   "outputs": [],
   "source": [
    "y1 = df2[:, 0]\n",
    "y1"
   ]
  },
  {
   "cell_type": "code",
   "execution_count": null,
   "metadata": {},
   "outputs": [],
   "source": [
    "X1 = df2[:,1:]\n",
    "X1"
   ]
  },
  {
   "cell_type": "code",
   "execution_count": null,
   "metadata": {},
   "outputs": [],
   "source": [
    "X_train1, X_test1, y_train1, y_test1 = train_test_split(X1, y1, test_size=0.2, random_state=42)"
   ]
  },
  {
   "cell_type": "code",
   "execution_count": null,
   "metadata": {},
   "outputs": [],
   "source": [
    "print(X_train1.shape)\n",
    "print(X_test1.shape)\n",
    "print(y_train1.shape)\n",
    "print(y_test1.shape)"
   ]
  },
  {
   "cell_type": "code",
   "execution_count": null,
   "metadata": {},
   "outputs": [],
   "source": [
    "data_transformation = preprocessing.StandardScaler()\n",
    "data = data_transformation.fit_transform(X_train1)"
   ]
  },
  {
   "cell_type": "code",
   "execution_count": null,
   "metadata": {},
   "outputs": [],
   "source": [
    "model = LinearRegression().fit(data, y_train1)\n",
    "print(model.intercept_)\n",
    "print(model.coef_)"
   ]
  },
  {
   "cell_type": "code",
   "execution_count": null,
   "metadata": {},
   "outputs": [],
   "source": [
    "accuracy = model.score(data, y_train1)\n",
    "accuracy"
   ]
  },
  {
   "cell_type": "code",
   "execution_count": null,
   "metadata": {},
   "outputs": [],
   "source": [
    "test_accuracy = model.score(data_transformation.transform((X_test1)), y_test1)\n",
    "test_accuracy"
   ]
  },
  {
   "cell_type": "code",
   "execution_count": null,
   "metadata": {},
   "outputs": [],
   "source": [
    "y_pred = model.predict(data_transformation.transform(X_test1))"
   ]
  },
  {
   "cell_type": "code",
   "execution_count": null,
   "metadata": {},
   "outputs": [],
   "source": [
    "y_pred"
   ]
  },
  {
   "cell_type": "code",
   "execution_count": null,
   "metadata": {},
   "outputs": [],
   "source": [
    "model1 = pd.DataFrame({'Actual value': y_test1, 'Predicted value': y_pred, \"Difference\" : (y_test1-y_pred).round(2)})\n",
    "model1.head()\n"
   ]
  },
  {
   "cell_type": "code",
   "execution_count": null,
   "metadata": {},
   "outputs": [],
   "source": [
    "model1[\"Difference\"].mean()"
   ]
  },
  {
   "cell_type": "code",
   "execution_count": null,
   "metadata": {},
   "outputs": [],
   "source": [
    "print('Mean Absolute Error:', metrics.mean_absolute_error(y_test1, y_pred))\n",
    "print('Mean Squared Error:', metrics.mean_squared_error(y_test1, y_pred))\n",
    "print('Root Mean Squared Error:', np.sqrt(metrics.mean_squared_error(y_test1, y_pred)))"
   ]
  },
  {
   "cell_type": "code",
   "execution_count": null,
   "metadata": {},
   "outputs": [],
   "source": [
    "MSE = np.square(np.subtract(y_test1,y_pred)).mean() \n",
    " \n",
    "RMSE = math.sqrt(MSE)\n",
    "RMSE\n"
   ]
  },
  {
   "cell_type": "markdown",
   "metadata": {},
   "source": [
    "## Polynomial Model"
   ]
  },
  {
   "cell_type": "code",
   "execution_count": null,
   "metadata": {},
   "outputs": [],
   "source": [
    "# From \n",
    "# Fitting 3 different polynomial regression models from degree 2 to degree 4\n",
    "for index, degree in enumerate([2, 3, 4]):\n",
    "    \n",
    "    # Instantiate PolynomialFeatures\n",
    "    poly = PolynomialFeatures(degree)\n",
    "    \n",
    "    # Fit and transform X_train\n",
    "    X_poly_train = poly.fit_transform(X_train)\n",
    "    \n",
    "    # Instantiate and fit a linear regression model to the polynomial transformed train features\n",
    "    reg_poly = LinearRegression().fit(X_poly_train, y_train)\n",
    "    \n",
    "    # Transform the test data into polynomial features\n",
    "    X_poly_test = poly.transform(X_test)\n",
    "    \n",
    "    # Get predicted values for transformed polynomial test data  \n",
    "    y_pred = reg_poly.predict(X_poly_test)\n",
    "    \n",
    "    # Evaluate model performance on test data\n",
    "    print(\"degree %d\" % degree, r2_score(y_test, y_pred))\n",
    "    \n",
    "    # Transform the full data\n",
    "    X_poly = poly.transform(X)\n",
    "    \n",
    "    # Now, we want to see what the model predicts for the entire data  \n",
    "    y_poly = reg_poly.predict(X_poly)\n",
    "    "
   ]
  },
  {
   "cell_type": "markdown",
   "metadata": {},
   "source": [
    "## Residual Plots"
   ]
  },
  {
   "cell_type": "code",
   "execution_count": null,
   "metadata": {},
   "outputs": [],
   "source": [
    "residuals = y-y_pred\n",
    "plt.plot(X,residuals, 'o', color='darkblue')\n",
    "plt.title(\"Residual Plot\")\n",
    "plt.xlabel(\"Independent Variable\")\n",
    "plt.ylabel(\"Residual\")"
   ]
  },
  {
   "cell_type": "markdown",
   "metadata": {},
   "source": [
    "Residuals skewed to the left."
   ]
  },
  {
   "cell_type": "markdown",
   "metadata": {},
   "source": [
    "## Mean of Residuals"
   ]
  },
  {
   "cell_type": "code",
   "execution_count": null,
   "metadata": {},
   "outputs": [],
   "source": [
    "lin_reg.resid.mean()"
   ]
  },
  {
   "cell_type": "markdown",
   "metadata": {},
   "source": [
    "## Assumption of Independent Errors"
   ]
  },
  {
   "cell_type": "code",
   "execution_count": null,
   "metadata": {},
   "outputs": [],
   "source": [
    "resid = model1.resid()"
   ]
  },
  {
   "cell_type": "code",
   "execution_count": null,
   "metadata": {},
   "outputs": [],
   "source": [
    "ind_errors = durbin_watson(model.resid)\n",
    "ind_errors"
   ]
  },
  {
   "cell_type": "markdown",
   "metadata": {},
   "source": [
    "Given the statistical value of 2.01, the test provides evidence that there is no serial correlation present meaning the residual error terms are uncorrelated and are independent."
   ]
  },
  {
   "cell_type": "markdown",
   "metadata": {},
   "source": [
    "## Assumption of Normality of the Residuals"
   ]
  },
  {
   "cell_type": "code",
   "execution_count": null,
   "metadata": {},
   "outputs": [],
   "source": [
    "name = ['Jarque-Bera', 'Chi^2 two-tail prob.', 'Skew', 'Kurtosis']\n",
    "test = stats.jarque_bera(model.resid)\n",
    "lzip(name, test)"
   ]
  },
  {
   "cell_type": "markdown",
   "metadata": {},
   "source": [
    "Test is significant"
   ]
  },
  {
   "cell_type": "code",
   "execution_count": null,
   "metadata": {},
   "outputs": [],
   "source": [
    "#Running Q-Q Plot\n",
    "stats.probplot(model.resid, dist=\"norm\", plot= plt)\n",
    "plt.title(\"Model1 Residuals Q-Q Plot\")\n",
    "\n",
    "plt.savefig(\"Model1_Resid_qqplot.png\")"
   ]
  },
  {
   "cell_type": "markdown",
   "metadata": {},
   "source": [
    "## Checking for Homoscedasticity"
   ]
  },
  {
   "cell_type": "code",
   "execution_count": null,
   "metadata": {},
   "outputs": [],
   "source": [
    "white_test = het_white(resid, model.model.exog)\n",
    "bp_test = het_breuschpagan(resid, model.model.exog)\n",
    "\n",
    "labels = ['LM Statistic', 'LM-Test p-value', 'F-Statistic', 'F-Test p-value']\n",
    "print(dict(zip(labels, bp_test)))\n",
    "print(dict(zip(labels, white_test)))"
   ]
  },
  {
   "cell_type": "markdown",
   "metadata": {},
   "source": [
    "## Alternate Way to Test Normality of Residuals"
   ]
  },
  {
   "cell_type": "code",
   "execution_count": null,
   "metadata": {},
   "outputs": [],
   "source": [
    "lin_reg = LinearRegression()\n",
    "def normality_of_residuals_test(model):\n",
    "    sm.ProbPlot(model.resid).qqplot(line='s');\n",
    "    plt.title('Q-Q plot');\n",
    "\n",
    "    jb = stats.jarque_bera(model.resid)\n",
    "    sw = stats.shapiro(model.resid)\n",
    "    ad = stats.anderson(model.resid, dist='norm')\n",
    "    ks = stats.kstest(model.resid, 'norm')\n",
    "    \n",
    "    print(f'Jarque-Bera test ---- statistic: {jb[0]:.4f}, p-value: {jb[1]}')\n",
    "    print(f'Shapiro-Wilk test ---- statistic: {sw[0]:.4f}, p-value: {sw[1]:.4f}')\n",
    "    print(f'Kolmogorov-Smirnov test ---- statistic: {ks.statistic:.4f}, p-value: {ks.pvalue:.4f}')\n",
    "    print(f'Anderson-Darling test ---- statistic: {ad.statistic:.4f}, 5% critical value: {ad.critical_values[2]:.4f}')\n",
    "    print('If the returned AD statistic is larger than the critical value, then for the 5% significance level, the null hypothesis that the data come from the Normal distribution should be rejected. ')\n",
    "    \n",
    "normality_of_residuals_test(lin_reg)"
   ]
  },
  {
   "cell_type": "code",
   "execution_count": null,
   "metadata": {},
   "outputs": [],
   "source": []
  }
 ],
 "metadata": {
  "kernelspec": {
   "display_name": "Python 3",
   "language": "python",
   "name": "python3"
  },
  "language_info": {
   "codemirror_mode": {
    "name": "ipython",
    "version": 3
   },
   "file_extension": ".py",
   "mimetype": "text/x-python",
   "name": "python",
   "nbconvert_exporter": "python",
   "pygments_lexer": "ipython3",
   "version": "3.8.5"
  }
 },
 "nbformat": 4,
 "nbformat_minor": 4
}
