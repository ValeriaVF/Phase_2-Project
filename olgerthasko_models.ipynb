{
 "cells": [
  {
   "cell_type": "markdown",
   "metadata": {},
   "source": [
    "## Final Project Submission\n",
    "\n",
    "Please fill out:\n",
    "* Student name: \n",
    "* Student pace: self paced / part time / full time\n",
    "* Scheduled project review date/time: \n",
    "* Instructor name: \n",
    "* Blog post URL:\n"
   ]
  },
  {
   "cell_type": "markdown",
   "metadata": {},
   "source": [
    "Possible questions\n",
    "\n",
    "Does area income effect price of houses\n",
    "\n",
    "Does grade have an effect on housing price\n",
    "\n",
    "Does property size effect housing price\n",
    "\n",
    "Does Age of property effect price"
   ]
  },
  {
   "cell_type": "code",
   "execution_count": 481,
   "metadata": {},
   "outputs": [],
   "source": [
    "#find lat and long of city center then subtract out lat and long form it to find the difference \n",
    "# weak correlation to test in model Floor waterfront view and grade "
   ]
  },
  {
   "cell_type": "code",
   "execution_count": 482,
   "metadata": {},
   "outputs": [],
   "source": [
    "#Importing libraries\n",
    "import pandas as pd\n",
    "import matplotlib.pyplot as plt\n",
    "import matplotlib.image as mpimg\n",
    "import seaborn as sns\n",
    "import numpy as np\n",
    "from datetime import datetime\n",
    "import statsmodels.formula.api as smf\n",
    "import statsmodels.api as sm\n",
    "from statsmodels.stats.outliers_influence import variance_inflation_factor\n",
    "from sklearn.model_selection import train_test_split\n",
    "from sklearn import preprocessing\n",
    "from sklearn.linear_model import LinearRegression\n",
    "from sklearn.model_selection import cross_validate, ShuffleSplit\n",
    "from sklearn import metrics\n",
    "from scipy import stats\n",
    "import math\n",
    "from PIL import Image"
   ]
  },
  {
   "cell_type": "code",
   "execution_count": 483,
   "metadata": {},
   "outputs": [],
   "source": [
    "df = pd.read_csv(\"data/kc_house_data_clean.csv\")\n",
    "df =df.drop([\"Unnamed: 0\"], axis = 1)"
   ]
  },
  {
   "cell_type": "markdown",
   "metadata": {},
   "source": [
    "Initial Model"
   ]
  },
  {
   "cell_type": "markdown",
   "metadata": {},
   "source": [
    "Possibly drop\n",
    "\n",
    "br : sqft liv\n",
    "\n",
    "sqft liv 15 : sqft liv\n",
    "\n",
    "sqft above : sqft liv\n",
    "\n",
    "sqft lot 15 : sqft lot\n",
    "\n",
    "\n",
    "\n",
    "Keep sqft_living, drop sqft_above, sqft_living15 due to high collinearity \n",
    "\n",
    "Keep sqft_lot drop sqft_lot15"
   ]
  },
  {
   "cell_type": "markdown",
   "metadata": {},
   "source": [
    "df = df.drop([\"sqft_above\", \"sqft_living15\", \"sqft_lot15\", \"lat\", \"long\" ], axis=1)"
   ]
  },
  {
   "cell_type": "markdown",
   "metadata": {},
   "source": [
    "Although the above table shows that there is a high collinearity between bedrooms and sqft_living, we believe that the number of bedrooms will play a key role in the price of the home, will revisit after modeling to verify if we need"
   ]
  },
  {
   "cell_type": "code",
   "execution_count": 484,
   "metadata": {},
   "outputs": [],
   "source": [
    "X = df.drop(\"price\", axis=1)\n",
    "y= df[\"price\"]"
   ]
  },
  {
   "cell_type": "code",
   "execution_count": 485,
   "metadata": {},
   "outputs": [],
   "source": [
    "X_train, X_test, y_train, y_test = train_test_split(X, y, test_size=0.2, random_state=42)"
   ]
  },
  {
   "cell_type": "code",
   "execution_count": 486,
   "metadata": {},
   "outputs": [
    {
     "name": "stdout",
     "output_type": "stream",
     "text": [
      "(16532, 23)\n",
      "(4134, 23)\n",
      "(16532,)\n",
      "(4134,)\n"
     ]
    }
   ],
   "source": [
    "print(X_train.shape)\n",
    "print(X_test.shape)\n",
    "print(y_train.shape)\n",
    "print(y_test.shape)"
   ]
  },
  {
   "cell_type": "code",
   "execution_count": 487,
   "metadata": {},
   "outputs": [],
   "source": [
    "X_train = X_train.apply(pd.to_numeric)"
   ]
  },
  {
   "cell_type": "code",
   "execution_count": 488,
   "metadata": {},
   "outputs": [
    {
     "name": "stdout",
     "output_type": "stream",
     "text": [
      "(16532, 23)\n",
      "(4134, 23)\n",
      "(16532,)\n",
      "(4134,)\n"
     ]
    }
   ],
   "source": [
    "print(X_train.shape)\n",
    "print(X_test.shape)\n",
    "print(y_train.shape)\n",
    "print(y_test.shape)"
   ]
  },
  {
   "cell_type": "code",
   "execution_count": 489,
   "metadata": {},
   "outputs": [
    {
     "data": {
      "text/html": [
       "<div>\n",
       "<style scoped>\n",
       "    .dataframe tbody tr th:only-of-type {\n",
       "        vertical-align: middle;\n",
       "    }\n",
       "\n",
       "    .dataframe tbody tr th {\n",
       "        vertical-align: top;\n",
       "    }\n",
       "\n",
       "    .dataframe thead th {\n",
       "        text-align: right;\n",
       "    }\n",
       "</style>\n",
       "<table border=\"1\" class=\"dataframe\">\n",
       "  <thead>\n",
       "    <tr style=\"text-align: right;\">\n",
       "      <th></th>\n",
       "      <th>bedrooms</th>\n",
       "      <th>bathrooms</th>\n",
       "      <th>sqft_living</th>\n",
       "      <th>sqft_lot</th>\n",
       "      <th>floors</th>\n",
       "      <th>waterfront</th>\n",
       "      <th>view</th>\n",
       "      <th>condition</th>\n",
       "      <th>grade</th>\n",
       "      <th>sqft_above</th>\n",
       "      <th>sqft_basement</th>\n",
       "      <th>yr_built</th>\n",
       "      <th>yr_renovated</th>\n",
       "      <th>zipcode</th>\n",
       "      <th>lat</th>\n",
       "      <th>long</th>\n",
       "      <th>sqft_living15</th>\n",
       "      <th>sqft_lot15</th>\n",
       "      <th>Income</th>\n",
       "      <th>house_age</th>\n",
       "      <th>year_sold</th>\n",
       "      <th>season</th>\n",
       "      <th>renovated</th>\n",
       "    </tr>\n",
       "  </thead>\n",
       "  <tbody>\n",
       "    <tr>\n",
       "      <th>0</th>\n",
       "      <td>3</td>\n",
       "      <td>1.00</td>\n",
       "      <td>1180</td>\n",
       "      <td>5650</td>\n",
       "      <td>1.0</td>\n",
       "      <td>0</td>\n",
       "      <td>4</td>\n",
       "      <td>0</td>\n",
       "      <td>8</td>\n",
       "      <td>1180</td>\n",
       "      <td>0.0</td>\n",
       "      <td>1955</td>\n",
       "      <td>0.0</td>\n",
       "      <td>66</td>\n",
       "      <td>47.5112</td>\n",
       "      <td>-122.257</td>\n",
       "      <td>1340</td>\n",
       "      <td>5650</td>\n",
       "      <td>113555.0</td>\n",
       "      <td>67</td>\n",
       "      <td>2014</td>\n",
       "      <td>3</td>\n",
       "      <td>0</td>\n",
       "    </tr>\n",
       "    <tr>\n",
       "      <th>1</th>\n",
       "      <td>2</td>\n",
       "      <td>1.00</td>\n",
       "      <td>880</td>\n",
       "      <td>6780</td>\n",
       "      <td>1.0</td>\n",
       "      <td>0</td>\n",
       "      <td>4</td>\n",
       "      <td>2</td>\n",
       "      <td>7</td>\n",
       "      <td>880</td>\n",
       "      <td>0.0</td>\n",
       "      <td>1945</td>\n",
       "      <td>0.0</td>\n",
       "      <td>66</td>\n",
       "      <td>47.5009</td>\n",
       "      <td>-122.248</td>\n",
       "      <td>1190</td>\n",
       "      <td>6780</td>\n",
       "      <td>113555.0</td>\n",
       "      <td>77</td>\n",
       "      <td>2014</td>\n",
       "      <td>1</td>\n",
       "      <td>0</td>\n",
       "    </tr>\n",
       "    <tr>\n",
       "      <th>2</th>\n",
       "      <td>3</td>\n",
       "      <td>2.25</td>\n",
       "      <td>2100</td>\n",
       "      <td>8201</td>\n",
       "      <td>1.0</td>\n",
       "      <td>0</td>\n",
       "      <td>0</td>\n",
       "      <td>0</td>\n",
       "      <td>9</td>\n",
       "      <td>1620</td>\n",
       "      <td>480.0</td>\n",
       "      <td>1967</td>\n",
       "      <td>0.0</td>\n",
       "      <td>66</td>\n",
       "      <td>47.5091</td>\n",
       "      <td>-122.244</td>\n",
       "      <td>2660</td>\n",
       "      <td>8712</td>\n",
       "      <td>113555.0</td>\n",
       "      <td>55</td>\n",
       "      <td>2014</td>\n",
       "      <td>2</td>\n",
       "      <td>0</td>\n",
       "    </tr>\n",
       "    <tr>\n",
       "      <th>3</th>\n",
       "      <td>3</td>\n",
       "      <td>1.00</td>\n",
       "      <td>1300</td>\n",
       "      <td>5898</td>\n",
       "      <td>1.0</td>\n",
       "      <td>0</td>\n",
       "      <td>4</td>\n",
       "      <td>0</td>\n",
       "      <td>8</td>\n",
       "      <td>1300</td>\n",
       "      <td>0.0</td>\n",
       "      <td>1961</td>\n",
       "      <td>0.0</td>\n",
       "      <td>66</td>\n",
       "      <td>47.5053</td>\n",
       "      <td>-122.255</td>\n",
       "      <td>1320</td>\n",
       "      <td>7619</td>\n",
       "      <td>113555.0</td>\n",
       "      <td>61</td>\n",
       "      <td>2014</td>\n",
       "      <td>2</td>\n",
       "      <td>0</td>\n",
       "    </tr>\n",
       "    <tr>\n",
       "      <th>4</th>\n",
       "      <td>2</td>\n",
       "      <td>1.00</td>\n",
       "      <td>860</td>\n",
       "      <td>5265</td>\n",
       "      <td>1.0</td>\n",
       "      <td>0</td>\n",
       "      <td>4</td>\n",
       "      <td>0</td>\n",
       "      <td>7</td>\n",
       "      <td>860</td>\n",
       "      <td>0.0</td>\n",
       "      <td>1931</td>\n",
       "      <td>0.0</td>\n",
       "      <td>66</td>\n",
       "      <td>47.5048</td>\n",
       "      <td>-122.272</td>\n",
       "      <td>1650</td>\n",
       "      <td>8775</td>\n",
       "      <td>113555.0</td>\n",
       "      <td>91</td>\n",
       "      <td>2015</td>\n",
       "      <td>0</td>\n",
       "      <td>0</td>\n",
       "    </tr>\n",
       "    <tr>\n",
       "      <th>...</th>\n",
       "      <td>...</td>\n",
       "      <td>...</td>\n",
       "      <td>...</td>\n",
       "      <td>...</td>\n",
       "      <td>...</td>\n",
       "      <td>...</td>\n",
       "      <td>...</td>\n",
       "      <td>...</td>\n",
       "      <td>...</td>\n",
       "      <td>...</td>\n",
       "      <td>...</td>\n",
       "      <td>...</td>\n",
       "      <td>...</td>\n",
       "      <td>...</td>\n",
       "      <td>...</td>\n",
       "      <td>...</td>\n",
       "      <td>...</td>\n",
       "      <td>...</td>\n",
       "      <td>...</td>\n",
       "      <td>...</td>\n",
       "      <td>...</td>\n",
       "      <td>...</td>\n",
       "      <td>...</td>\n",
       "    </tr>\n",
       "    <tr>\n",
       "      <th>20661</th>\n",
       "      <td>3</td>\n",
       "      <td>2.50</td>\n",
       "      <td>3110</td>\n",
       "      <td>9930</td>\n",
       "      <td>1.0</td>\n",
       "      <td>0</td>\n",
       "      <td>2</td>\n",
       "      <td>0</td>\n",
       "      <td>9</td>\n",
       "      <td>1640</td>\n",
       "      <td>1470.0</td>\n",
       "      <td>1954</td>\n",
       "      <td>0.0</td>\n",
       "      <td>24</td>\n",
       "      <td>47.6112</td>\n",
       "      <td>-122.226</td>\n",
       "      <td>3650</td>\n",
       "      <td>14399</td>\n",
       "      <td>7190.0</td>\n",
       "      <td>68</td>\n",
       "      <td>2014</td>\n",
       "      <td>2</td>\n",
       "      <td>0</td>\n",
       "    </tr>\n",
       "    <tr>\n",
       "      <th>20662</th>\n",
       "      <td>4</td>\n",
       "      <td>3.00</td>\n",
       "      <td>2150</td>\n",
       "      <td>8119</td>\n",
       "      <td>2.0</td>\n",
       "      <td>0</td>\n",
       "      <td>4</td>\n",
       "      <td>0</td>\n",
       "      <td>9</td>\n",
       "      <td>2150</td>\n",
       "      <td>0.0</td>\n",
       "      <td>1953</td>\n",
       "      <td>2004.0</td>\n",
       "      <td>24</td>\n",
       "      <td>47.6335</td>\n",
       "      <td>-122.236</td>\n",
       "      <td>1590</td>\n",
       "      <td>8119</td>\n",
       "      <td>7190.0</td>\n",
       "      <td>69</td>\n",
       "      <td>2015</td>\n",
       "      <td>1</td>\n",
       "      <td>1</td>\n",
       "    </tr>\n",
       "    <tr>\n",
       "      <th>20663</th>\n",
       "      <td>5</td>\n",
       "      <td>2.75</td>\n",
       "      <td>3090</td>\n",
       "      <td>19865</td>\n",
       "      <td>1.0</td>\n",
       "      <td>0</td>\n",
       "      <td>4</td>\n",
       "      <td>2</td>\n",
       "      <td>10</td>\n",
       "      <td>3090</td>\n",
       "      <td>0.0</td>\n",
       "      <td>1953</td>\n",
       "      <td>0.0</td>\n",
       "      <td>24</td>\n",
       "      <td>47.6232</td>\n",
       "      <td>-122.235</td>\n",
       "      <td>2970</td>\n",
       "      <td>19862</td>\n",
       "      <td>7190.0</td>\n",
       "      <td>69</td>\n",
       "      <td>2014</td>\n",
       "      <td>3</td>\n",
       "      <td>0</td>\n",
       "    </tr>\n",
       "    <tr>\n",
       "      <th>20664</th>\n",
       "      <td>3</td>\n",
       "      <td>2.00</td>\n",
       "      <td>2070</td>\n",
       "      <td>9600</td>\n",
       "      <td>1.0</td>\n",
       "      <td>0</td>\n",
       "      <td>2</td>\n",
       "      <td>0</td>\n",
       "      <td>8</td>\n",
       "      <td>1590</td>\n",
       "      <td>480.0</td>\n",
       "      <td>1946</td>\n",
       "      <td>0.0</td>\n",
       "      <td>24</td>\n",
       "      <td>47.6160</td>\n",
       "      <td>-122.239</td>\n",
       "      <td>3000</td>\n",
       "      <td>16215</td>\n",
       "      <td>7190.0</td>\n",
       "      <td>76</td>\n",
       "      <td>2014</td>\n",
       "      <td>2</td>\n",
       "      <td>0</td>\n",
       "    </tr>\n",
       "    <tr>\n",
       "      <th>20665</th>\n",
       "      <td>4</td>\n",
       "      <td>2.25</td>\n",
       "      <td>3250</td>\n",
       "      <td>16684</td>\n",
       "      <td>2.0</td>\n",
       "      <td>0</td>\n",
       "      <td>4</td>\n",
       "      <td>0</td>\n",
       "      <td>10</td>\n",
       "      <td>3250</td>\n",
       "      <td>0.0</td>\n",
       "      <td>1979</td>\n",
       "      <td>0.0</td>\n",
       "      <td>24</td>\n",
       "      <td>47.6334</td>\n",
       "      <td>-122.229</td>\n",
       "      <td>2890</td>\n",
       "      <td>16927</td>\n",
       "      <td>7190.0</td>\n",
       "      <td>43</td>\n",
       "      <td>2014</td>\n",
       "      <td>1</td>\n",
       "      <td>0</td>\n",
       "    </tr>\n",
       "  </tbody>\n",
       "</table>\n",
       "<p>20666 rows × 23 columns</p>\n",
       "</div>"
      ],
      "text/plain": [
       "       bedrooms  bathrooms  sqft_living  sqft_lot  floors  waterfront  view  \\\n",
       "0             3       1.00         1180      5650     1.0           0     4   \n",
       "1             2       1.00          880      6780     1.0           0     4   \n",
       "2             3       2.25         2100      8201     1.0           0     0   \n",
       "3             3       1.00         1300      5898     1.0           0     4   \n",
       "4             2       1.00          860      5265     1.0           0     4   \n",
       "...         ...        ...          ...       ...     ...         ...   ...   \n",
       "20661         3       2.50         3110      9930     1.0           0     2   \n",
       "20662         4       3.00         2150      8119     2.0           0     4   \n",
       "20663         5       2.75         3090     19865     1.0           0     4   \n",
       "20664         3       2.00         2070      9600     1.0           0     2   \n",
       "20665         4       2.25         3250     16684     2.0           0     4   \n",
       "\n",
       "       condition  grade  sqft_above  sqft_basement  yr_built  yr_renovated  \\\n",
       "0              0      8        1180            0.0      1955           0.0   \n",
       "1              2      7         880            0.0      1945           0.0   \n",
       "2              0      9        1620          480.0      1967           0.0   \n",
       "3              0      8        1300            0.0      1961           0.0   \n",
       "4              0      7         860            0.0      1931           0.0   \n",
       "...          ...    ...         ...            ...       ...           ...   \n",
       "20661          0      9        1640         1470.0      1954           0.0   \n",
       "20662          0      9        2150            0.0      1953        2004.0   \n",
       "20663          2     10        3090            0.0      1953           0.0   \n",
       "20664          0      8        1590          480.0      1946           0.0   \n",
       "20665          0     10        3250            0.0      1979           0.0   \n",
       "\n",
       "       zipcode      lat     long  sqft_living15  sqft_lot15    Income  \\\n",
       "0           66  47.5112 -122.257           1340        5650  113555.0   \n",
       "1           66  47.5009 -122.248           1190        6780  113555.0   \n",
       "2           66  47.5091 -122.244           2660        8712  113555.0   \n",
       "3           66  47.5053 -122.255           1320        7619  113555.0   \n",
       "4           66  47.5048 -122.272           1650        8775  113555.0   \n",
       "...        ...      ...      ...            ...         ...       ...   \n",
       "20661       24  47.6112 -122.226           3650       14399    7190.0   \n",
       "20662       24  47.6335 -122.236           1590        8119    7190.0   \n",
       "20663       24  47.6232 -122.235           2970       19862    7190.0   \n",
       "20664       24  47.6160 -122.239           3000       16215    7190.0   \n",
       "20665       24  47.6334 -122.229           2890       16927    7190.0   \n",
       "\n",
       "       house_age  year_sold  season  renovated  \n",
       "0             67       2014       3          0  \n",
       "1             77       2014       1          0  \n",
       "2             55       2014       2          0  \n",
       "3             61       2014       2          0  \n",
       "4             91       2015       0          0  \n",
       "...          ...        ...     ...        ...  \n",
       "20661         68       2014       2          0  \n",
       "20662         69       2015       1          1  \n",
       "20663         69       2014       3          0  \n",
       "20664         76       2014       2          0  \n",
       "20665         43       2014       1          0  \n",
       "\n",
       "[20666 rows x 23 columns]"
      ]
     },
     "execution_count": 489,
     "metadata": {},
     "output_type": "execute_result"
    }
   ],
   "source": [
    "X_train = df.drop(\"price\", axis=1)\n",
    "y_train = df[\"price\"]\n",
    "\n",
    "X_test = df.drop(\"price\", axis=1)\n",
    "y_test = df[\"price\"]\n",
    "\n",
    "X_train"
   ]
  },
  {
   "cell_type": "code",
   "execution_count": 490,
   "metadata": {},
   "outputs": [],
   "source": [
    "season_model = X_train[\"season\"]\n",
    "season_model = pd.DataFrame(season_model) "
   ]
  },
  {
   "cell_type": "code",
   "execution_count": 491,
   "metadata": {},
   "outputs": [
    {
     "name": "stdout",
     "output_type": "stream",
     "text": [
      "Train score:      0.658320929211188\n",
      "Validation score: 0.6569126966737452\n"
     ]
    }
   ],
   "source": [
    "baseline_model = LinearRegression()\n",
    "\n",
    "splitter = ShuffleSplit(n_splits=3, test_size=0.25, random_state=0)\n",
    "\n",
    "baseline_scores = cross_validate(\n",
    "    estimator=baseline_model,\n",
    "    X=X_train,\n",
    "    y=y_train,\n",
    "    return_train_score=True,\n",
    "    cv=splitter\n",
    ")\n",
    "\n",
    "print(\"Train score:     \", baseline_scores[\"train_score\"].mean())\n",
    "print(\"Validation score:\", baseline_scores[\"test_score\"].mean())"
   ]
  },
  {
   "cell_type": "code",
   "execution_count": 492,
   "metadata": {},
   "outputs": [],
   "source": [
    "df_numerical = df[['price', 'bedrooms','bathrooms', 'sqft_living', 'floors', 'sqft_lot', 'sqft_basement', 'sqft_living15', 'sqft_lot15','Income',]].copy()"
   ]
  },
  {
   "cell_type": "code",
   "execution_count": 493,
   "metadata": {},
   "outputs": [],
   "source": [
    "df_numerical1 = df[['price', 'bedrooms','bathrooms', 'sqft_living', 'floors', 'sqft_lot', 'sqft_basement', 'Income',]].copy()"
   ]
  },
  {
   "cell_type": "code",
   "execution_count": 494,
   "metadata": {},
   "outputs": [
    {
     "data": {
      "text/html": [
       "<div>\n",
       "<style scoped>\n",
       "    .dataframe tbody tr th:only-of-type {\n",
       "        vertical-align: middle;\n",
       "    }\n",
       "\n",
       "    .dataframe tbody tr th {\n",
       "        vertical-align: top;\n",
       "    }\n",
       "\n",
       "    .dataframe thead th {\n",
       "        text-align: right;\n",
       "    }\n",
       "</style>\n",
       "<table border=\"1\" class=\"dataframe\">\n",
       "  <thead>\n",
       "    <tr style=\"text-align: right;\">\n",
       "      <th></th>\n",
       "      <th>VIF Factor</th>\n",
       "      <th>features</th>\n",
       "    </tr>\n",
       "  </thead>\n",
       "  <tbody>\n",
       "    <tr>\n",
       "      <th>0</th>\n",
       "      <td>8.87</td>\n",
       "      <td>price</td>\n",
       "    </tr>\n",
       "    <tr>\n",
       "      <th>1</th>\n",
       "      <td>19.35</td>\n",
       "      <td>bedrooms</td>\n",
       "    </tr>\n",
       "    <tr>\n",
       "      <th>2</th>\n",
       "      <td>24.28</td>\n",
       "      <td>bathrooms</td>\n",
       "    </tr>\n",
       "    <tr>\n",
       "      <th>3</th>\n",
       "      <td>27.66</td>\n",
       "      <td>sqft_living</td>\n",
       "    </tr>\n",
       "    <tr>\n",
       "      <th>4</th>\n",
       "      <td>14.35</td>\n",
       "      <td>floors</td>\n",
       "    </tr>\n",
       "    <tr>\n",
       "      <th>5</th>\n",
       "      <td>1.18</td>\n",
       "      <td>sqft_lot</td>\n",
       "    </tr>\n",
       "    <tr>\n",
       "      <th>6</th>\n",
       "      <td>2.23</td>\n",
       "      <td>sqft_basement</td>\n",
       "    </tr>\n",
       "    <tr>\n",
       "      <th>7</th>\n",
       "      <td>5.64</td>\n",
       "      <td>Income</td>\n",
       "    </tr>\n",
       "  </tbody>\n",
       "</table>\n",
       "</div>"
      ],
      "text/plain": [
       "   VIF Factor       features\n",
       "0        8.87          price\n",
       "1       19.35       bedrooms\n",
       "2       24.28      bathrooms\n",
       "3       27.66    sqft_living\n",
       "4       14.35         floors\n",
       "5        1.18       sqft_lot\n",
       "6        2.23  sqft_basement\n",
       "7        5.64         Income"
      ]
     },
     "execution_count": 494,
     "metadata": {},
     "output_type": "execute_result"
    }
   ],
   "source": [
    "vif = pd.DataFrame()\n",
    "vif[\"VIF Factor\"] = [variance_inflation_factor(df_numerical1.values, i) for i in range(df_numerical1.shape[1])]\n",
    "vif[\"features\"] = df_numerical1.columns\n",
    "vif.round(2)"
   ]
  },
  {
   "cell_type": "code",
   "execution_count": 495,
   "metadata": {},
   "outputs": [],
   "source": [
    "y = df[\"price\"]\n",
    "X = df.drop(\"price\", axis=1)"
   ]
  },
  {
   "cell_type": "code",
   "execution_count": 496,
   "metadata": {},
   "outputs": [
    {
     "name": "stdout",
     "output_type": "stream",
     "text": [
      "                            OLS Regression Results                            \n",
      "==============================================================================\n",
      "Dep. Variable:                  price   R-squared:                       0.658\n",
      "Model:                            OLS   Adj. R-squared:                  0.658\n",
      "Method:                 Least Squares   F-statistic:                     1807.\n",
      "Date:                Thu, 06 Jan 2022   Prob (F-statistic):               0.00\n",
      "Time:                        00:13:21   Log-Likelihood:            -2.7429e+05\n",
      "No. Observations:               20666   AIC:                         5.486e+05\n",
      "Df Residuals:                   20643   BIC:                         5.488e+05\n",
      "Df Model:                          22                                         \n",
      "Covariance Type:            nonrobust                                         \n",
      "=================================================================================\n",
      "                    coef    std err          t      P>|t|      [0.025      0.975]\n",
      "---------------------------------------------------------------------------------\n",
      "const           -49.2719      3.155    -15.618      0.000     -55.456     -43.088\n",
      "bedrooms      -2.234e+04   1492.553    -14.970      0.000   -2.53e+04   -1.94e+04\n",
      "bathrooms      3.781e+04   2406.776     15.708      0.000    3.31e+04    4.25e+04\n",
      "sqft_living     119.5813     13.755      8.693      0.000      92.620     146.543\n",
      "sqft_lot          0.2225      0.035      6.328      0.000       0.154       0.291\n",
      "floors         5.135e+04   2621.637     19.585      0.000    4.62e+04    5.65e+04\n",
      "waterfront     2.474e+05   1.69e+04     14.661      0.000    2.14e+05     2.8e+05\n",
      "view          -2.614e+04   1196.048    -21.857      0.000   -2.85e+04   -2.38e+04\n",
      "condition      1.546e+04    881.537     17.533      0.000    1.37e+04    1.72e+04\n",
      "grade         -6853.1116    500.610    -13.690      0.000   -7834.348   -5871.876\n",
      "sqft_above       20.7932     13.731      1.514      0.130      -6.121      47.707\n",
      "sqft_basement     6.9889     13.622      0.513      0.608     -19.711      33.688\n",
      "yr_built      -5.052e+04   3188.069    -15.847      0.000   -5.68e+04   -4.43e+04\n",
      "yr_renovated   3613.5528    341.740     10.574      0.000    2943.715    4283.391\n",
      "zipcode       -1089.3982     64.667    -16.846      0.000   -1216.151    -962.645\n",
      "lat            6.322e+05   7585.817     83.334      0.000    6.17e+05    6.47e+05\n",
      "long          -2.196e+05   9547.769    -23.004      0.000   -2.38e+05   -2.01e+05\n",
      "sqft_living15    83.6292      2.532     33.027      0.000      78.666      88.592\n",
      "sqft_lot15       -0.2428      0.055     -4.426      0.000      -0.350      -0.135\n",
      "Income           -0.2768      0.018    -15.133      0.000      -0.313      -0.241\n",
      "house_age     -4.911e+04   3191.195    -15.388      0.000   -5.54e+04   -4.29e+04\n",
      "year_sold      2.252e+04   3136.320      7.181      0.000    1.64e+04    2.87e+04\n",
      "season         1017.7691   1416.544      0.718      0.472   -1758.770    3794.308\n",
      "renovated     -7.158e+06   6.82e+05    -10.495      0.000   -8.49e+06   -5.82e+06\n",
      "==============================================================================\n",
      "Omnibus:                     3390.520   Durbin-Watson:                   1.199\n",
      "Prob(Omnibus):                  0.000   Jarque-Bera (JB):             9721.209\n",
      "Skew:                           0.875   Prob(JB):                         0.00\n",
      "Kurtosis:                       5.868   Cond. No.                     3.48e+20\n",
      "==============================================================================\n",
      "\n",
      "Notes:\n",
      "[1] Standard Errors assume that the covariance matrix of the errors is correctly specified.\n",
      "[2] The smallest eigenvalue is 4.24e-27. This might indicate that there are\n",
      "strong multicollinearity problems or that the design matrix is singular.\n"
     ]
    }
   ],
   "source": [
    "model = sm.OLS(y, sm.add_constant(X), missing = \"drop\").fit()\n",
    "results = model.summary()\n",
    "print(results)"
   ]
  },
  {
   "cell_type": "code",
   "execution_count": 497,
   "metadata": {},
   "outputs": [],
   "source": [
    "df = pd.read_csv(\"data/kc_house_data_clean.csv\")\n",
    "df =df.drop([\"Unnamed: 0\"], axis = 1)"
   ]
  },
  {
   "cell_type": "code",
   "execution_count": 498,
   "metadata": {},
   "outputs": [
    {
     "data": {
      "text/html": [
       "<div>\n",
       "<style scoped>\n",
       "    .dataframe tbody tr th:only-of-type {\n",
       "        vertical-align: middle;\n",
       "    }\n",
       "\n",
       "    .dataframe tbody tr th {\n",
       "        vertical-align: top;\n",
       "    }\n",
       "\n",
       "    .dataframe thead th {\n",
       "        text-align: right;\n",
       "    }\n",
       "</style>\n",
       "<table border=\"1\" class=\"dataframe\">\n",
       "  <thead>\n",
       "    <tr style=\"text-align: right;\">\n",
       "      <th></th>\n",
       "      <th>price</th>\n",
       "      <th>bedrooms</th>\n",
       "      <th>bathrooms</th>\n",
       "      <th>sqft_living</th>\n",
       "      <th>sqft_lot</th>\n",
       "      <th>floors</th>\n",
       "      <th>waterfront</th>\n",
       "      <th>view</th>\n",
       "      <th>condition</th>\n",
       "      <th>grade</th>\n",
       "      <th>sqft_above</th>\n",
       "      <th>sqft_basement</th>\n",
       "      <th>yr_built</th>\n",
       "      <th>yr_renovated</th>\n",
       "      <th>zipcode</th>\n",
       "      <th>lat</th>\n",
       "      <th>long</th>\n",
       "      <th>sqft_living15</th>\n",
       "      <th>sqft_lot15</th>\n",
       "      <th>Income</th>\n",
       "      <th>house_age</th>\n",
       "      <th>year_sold</th>\n",
       "      <th>season</th>\n",
       "      <th>renovated</th>\n",
       "    </tr>\n",
       "  </thead>\n",
       "  <tbody>\n",
       "    <tr>\n",
       "      <th>0</th>\n",
       "      <td>221900.0</td>\n",
       "      <td>3</td>\n",
       "      <td>1.00</td>\n",
       "      <td>1180</td>\n",
       "      <td>5650</td>\n",
       "      <td>1.0</td>\n",
       "      <td>0</td>\n",
       "      <td>4</td>\n",
       "      <td>0</td>\n",
       "      <td>8</td>\n",
       "      <td>1180</td>\n",
       "      <td>0.0</td>\n",
       "      <td>1955</td>\n",
       "      <td>0.0</td>\n",
       "      <td>66</td>\n",
       "      <td>47.5112</td>\n",
       "      <td>-122.257</td>\n",
       "      <td>1340</td>\n",
       "      <td>5650</td>\n",
       "      <td>113555.0</td>\n",
       "      <td>67</td>\n",
       "      <td>2014</td>\n",
       "      <td>3</td>\n",
       "      <td>0</td>\n",
       "    </tr>\n",
       "    <tr>\n",
       "      <th>1</th>\n",
       "      <td>205425.0</td>\n",
       "      <td>2</td>\n",
       "      <td>1.00</td>\n",
       "      <td>880</td>\n",
       "      <td>6780</td>\n",
       "      <td>1.0</td>\n",
       "      <td>0</td>\n",
       "      <td>4</td>\n",
       "      <td>2</td>\n",
       "      <td>7</td>\n",
       "      <td>880</td>\n",
       "      <td>0.0</td>\n",
       "      <td>1945</td>\n",
       "      <td>0.0</td>\n",
       "      <td>66</td>\n",
       "      <td>47.5009</td>\n",
       "      <td>-122.248</td>\n",
       "      <td>1190</td>\n",
       "      <td>6780</td>\n",
       "      <td>113555.0</td>\n",
       "      <td>77</td>\n",
       "      <td>2014</td>\n",
       "      <td>1</td>\n",
       "      <td>0</td>\n",
       "    </tr>\n",
       "    <tr>\n",
       "      <th>2</th>\n",
       "      <td>445000.0</td>\n",
       "      <td>3</td>\n",
       "      <td>2.25</td>\n",
       "      <td>2100</td>\n",
       "      <td>8201</td>\n",
       "      <td>1.0</td>\n",
       "      <td>0</td>\n",
       "      <td>0</td>\n",
       "      <td>0</td>\n",
       "      <td>9</td>\n",
       "      <td>1620</td>\n",
       "      <td>480.0</td>\n",
       "      <td>1967</td>\n",
       "      <td>0.0</td>\n",
       "      <td>66</td>\n",
       "      <td>47.5091</td>\n",
       "      <td>-122.244</td>\n",
       "      <td>2660</td>\n",
       "      <td>8712</td>\n",
       "      <td>113555.0</td>\n",
       "      <td>55</td>\n",
       "      <td>2014</td>\n",
       "      <td>2</td>\n",
       "      <td>0</td>\n",
       "    </tr>\n",
       "    <tr>\n",
       "      <th>3</th>\n",
       "      <td>236000.0</td>\n",
       "      <td>3</td>\n",
       "      <td>1.00</td>\n",
       "      <td>1300</td>\n",
       "      <td>5898</td>\n",
       "      <td>1.0</td>\n",
       "      <td>0</td>\n",
       "      <td>4</td>\n",
       "      <td>0</td>\n",
       "      <td>8</td>\n",
       "      <td>1300</td>\n",
       "      <td>0.0</td>\n",
       "      <td>1961</td>\n",
       "      <td>0.0</td>\n",
       "      <td>66</td>\n",
       "      <td>47.5053</td>\n",
       "      <td>-122.255</td>\n",
       "      <td>1320</td>\n",
       "      <td>7619</td>\n",
       "      <td>113555.0</td>\n",
       "      <td>61</td>\n",
       "      <td>2014</td>\n",
       "      <td>2</td>\n",
       "      <td>0</td>\n",
       "    </tr>\n",
       "    <tr>\n",
       "      <th>4</th>\n",
       "      <td>170000.0</td>\n",
       "      <td>2</td>\n",
       "      <td>1.00</td>\n",
       "      <td>860</td>\n",
       "      <td>5265</td>\n",
       "      <td>1.0</td>\n",
       "      <td>0</td>\n",
       "      <td>4</td>\n",
       "      <td>0</td>\n",
       "      <td>7</td>\n",
       "      <td>860</td>\n",
       "      <td>0.0</td>\n",
       "      <td>1931</td>\n",
       "      <td>0.0</td>\n",
       "      <td>66</td>\n",
       "      <td>47.5048</td>\n",
       "      <td>-122.272</td>\n",
       "      <td>1650</td>\n",
       "      <td>8775</td>\n",
       "      <td>113555.0</td>\n",
       "      <td>91</td>\n",
       "      <td>2015</td>\n",
       "      <td>0</td>\n",
       "      <td>0</td>\n",
       "    </tr>\n",
       "    <tr>\n",
       "      <th>...</th>\n",
       "      <td>...</td>\n",
       "      <td>...</td>\n",
       "      <td>...</td>\n",
       "      <td>...</td>\n",
       "      <td>...</td>\n",
       "      <td>...</td>\n",
       "      <td>...</td>\n",
       "      <td>...</td>\n",
       "      <td>...</td>\n",
       "      <td>...</td>\n",
       "      <td>...</td>\n",
       "      <td>...</td>\n",
       "      <td>...</td>\n",
       "      <td>...</td>\n",
       "      <td>...</td>\n",
       "      <td>...</td>\n",
       "      <td>...</td>\n",
       "      <td>...</td>\n",
       "      <td>...</td>\n",
       "      <td>...</td>\n",
       "      <td>...</td>\n",
       "      <td>...</td>\n",
       "      <td>...</td>\n",
       "      <td>...</td>\n",
       "    </tr>\n",
       "    <tr>\n",
       "      <th>20661</th>\n",
       "      <td>1260000.0</td>\n",
       "      <td>3</td>\n",
       "      <td>2.50</td>\n",
       "      <td>3110</td>\n",
       "      <td>9930</td>\n",
       "      <td>1.0</td>\n",
       "      <td>0</td>\n",
       "      <td>2</td>\n",
       "      <td>0</td>\n",
       "      <td>9</td>\n",
       "      <td>1640</td>\n",
       "      <td>1470.0</td>\n",
       "      <td>1954</td>\n",
       "      <td>0.0</td>\n",
       "      <td>24</td>\n",
       "      <td>47.6112</td>\n",
       "      <td>-122.226</td>\n",
       "      <td>3650</td>\n",
       "      <td>14399</td>\n",
       "      <td>7190.0</td>\n",
       "      <td>68</td>\n",
       "      <td>2014</td>\n",
       "      <td>2</td>\n",
       "      <td>0</td>\n",
       "    </tr>\n",
       "    <tr>\n",
       "      <th>20662</th>\n",
       "      <td>1200000.0</td>\n",
       "      <td>4</td>\n",
       "      <td>3.00</td>\n",
       "      <td>2150</td>\n",
       "      <td>8119</td>\n",
       "      <td>2.0</td>\n",
       "      <td>0</td>\n",
       "      <td>4</td>\n",
       "      <td>0</td>\n",
       "      <td>9</td>\n",
       "      <td>2150</td>\n",
       "      <td>0.0</td>\n",
       "      <td>1953</td>\n",
       "      <td>2004.0</td>\n",
       "      <td>24</td>\n",
       "      <td>47.6335</td>\n",
       "      <td>-122.236</td>\n",
       "      <td>1590</td>\n",
       "      <td>8119</td>\n",
       "      <td>7190.0</td>\n",
       "      <td>69</td>\n",
       "      <td>2015</td>\n",
       "      <td>1</td>\n",
       "      <td>1</td>\n",
       "    </tr>\n",
       "    <tr>\n",
       "      <th>20663</th>\n",
       "      <td>1450000.0</td>\n",
       "      <td>5</td>\n",
       "      <td>2.75</td>\n",
       "      <td>3090</td>\n",
       "      <td>19865</td>\n",
       "      <td>1.0</td>\n",
       "      <td>0</td>\n",
       "      <td>4</td>\n",
       "      <td>2</td>\n",
       "      <td>10</td>\n",
       "      <td>3090</td>\n",
       "      <td>0.0</td>\n",
       "      <td>1953</td>\n",
       "      <td>0.0</td>\n",
       "      <td>24</td>\n",
       "      <td>47.6232</td>\n",
       "      <td>-122.235</td>\n",
       "      <td>2970</td>\n",
       "      <td>19862</td>\n",
       "      <td>7190.0</td>\n",
       "      <td>69</td>\n",
       "      <td>2014</td>\n",
       "      <td>3</td>\n",
       "      <td>0</td>\n",
       "    </tr>\n",
       "    <tr>\n",
       "      <th>20664</th>\n",
       "      <td>1350000.0</td>\n",
       "      <td>3</td>\n",
       "      <td>2.00</td>\n",
       "      <td>2070</td>\n",
       "      <td>9600</td>\n",
       "      <td>1.0</td>\n",
       "      <td>0</td>\n",
       "      <td>2</td>\n",
       "      <td>0</td>\n",
       "      <td>8</td>\n",
       "      <td>1590</td>\n",
       "      <td>480.0</td>\n",
       "      <td>1946</td>\n",
       "      <td>0.0</td>\n",
       "      <td>24</td>\n",
       "      <td>47.6160</td>\n",
       "      <td>-122.239</td>\n",
       "      <td>3000</td>\n",
       "      <td>16215</td>\n",
       "      <td>7190.0</td>\n",
       "      <td>76</td>\n",
       "      <td>2014</td>\n",
       "      <td>2</td>\n",
       "      <td>0</td>\n",
       "    </tr>\n",
       "    <tr>\n",
       "      <th>20665</th>\n",
       "      <td>1410000.0</td>\n",
       "      <td>4</td>\n",
       "      <td>2.25</td>\n",
       "      <td>3250</td>\n",
       "      <td>16684</td>\n",
       "      <td>2.0</td>\n",
       "      <td>0</td>\n",
       "      <td>4</td>\n",
       "      <td>0</td>\n",
       "      <td>10</td>\n",
       "      <td>3250</td>\n",
       "      <td>0.0</td>\n",
       "      <td>1979</td>\n",
       "      <td>0.0</td>\n",
       "      <td>24</td>\n",
       "      <td>47.6334</td>\n",
       "      <td>-122.229</td>\n",
       "      <td>2890</td>\n",
       "      <td>16927</td>\n",
       "      <td>7190.0</td>\n",
       "      <td>43</td>\n",
       "      <td>2014</td>\n",
       "      <td>1</td>\n",
       "      <td>0</td>\n",
       "    </tr>\n",
       "  </tbody>\n",
       "</table>\n",
       "<p>20666 rows × 24 columns</p>\n",
       "</div>"
      ],
      "text/plain": [
       "           price  bedrooms  bathrooms  sqft_living  sqft_lot  floors  \\\n",
       "0       221900.0         3       1.00         1180      5650     1.0   \n",
       "1       205425.0         2       1.00          880      6780     1.0   \n",
       "2       445000.0         3       2.25         2100      8201     1.0   \n",
       "3       236000.0         3       1.00         1300      5898     1.0   \n",
       "4       170000.0         2       1.00          860      5265     1.0   \n",
       "...          ...       ...        ...          ...       ...     ...   \n",
       "20661  1260000.0         3       2.50         3110      9930     1.0   \n",
       "20662  1200000.0         4       3.00         2150      8119     2.0   \n",
       "20663  1450000.0         5       2.75         3090     19865     1.0   \n",
       "20664  1350000.0         3       2.00         2070      9600     1.0   \n",
       "20665  1410000.0         4       2.25         3250     16684     2.0   \n",
       "\n",
       "       waterfront  view  condition  grade  sqft_above  sqft_basement  \\\n",
       "0               0     4          0      8        1180            0.0   \n",
       "1               0     4          2      7         880            0.0   \n",
       "2               0     0          0      9        1620          480.0   \n",
       "3               0     4          0      8        1300            0.0   \n",
       "4               0     4          0      7         860            0.0   \n",
       "...           ...   ...        ...    ...         ...            ...   \n",
       "20661           0     2          0      9        1640         1470.0   \n",
       "20662           0     4          0      9        2150            0.0   \n",
       "20663           0     4          2     10        3090            0.0   \n",
       "20664           0     2          0      8        1590          480.0   \n",
       "20665           0     4          0     10        3250            0.0   \n",
       "\n",
       "       yr_built  yr_renovated  zipcode      lat     long  sqft_living15  \\\n",
       "0          1955           0.0       66  47.5112 -122.257           1340   \n",
       "1          1945           0.0       66  47.5009 -122.248           1190   \n",
       "2          1967           0.0       66  47.5091 -122.244           2660   \n",
       "3          1961           0.0       66  47.5053 -122.255           1320   \n",
       "4          1931           0.0       66  47.5048 -122.272           1650   \n",
       "...         ...           ...      ...      ...      ...            ...   \n",
       "20661      1954           0.0       24  47.6112 -122.226           3650   \n",
       "20662      1953        2004.0       24  47.6335 -122.236           1590   \n",
       "20663      1953           0.0       24  47.6232 -122.235           2970   \n",
       "20664      1946           0.0       24  47.6160 -122.239           3000   \n",
       "20665      1979           0.0       24  47.6334 -122.229           2890   \n",
       "\n",
       "       sqft_lot15    Income  house_age  year_sold  season  renovated  \n",
       "0            5650  113555.0         67       2014       3          0  \n",
       "1            6780  113555.0         77       2014       1          0  \n",
       "2            8712  113555.0         55       2014       2          0  \n",
       "3            7619  113555.0         61       2014       2          0  \n",
       "4            8775  113555.0         91       2015       0          0  \n",
       "...           ...       ...        ...        ...     ...        ...  \n",
       "20661       14399    7190.0         68       2014       2          0  \n",
       "20662        8119    7190.0         69       2015       1          1  \n",
       "20663       19862    7190.0         69       2014       3          0  \n",
       "20664       16215    7190.0         76       2014       2          0  \n",
       "20665       16927    7190.0         43       2014       1          0  \n",
       "\n",
       "[20666 rows x 24 columns]"
      ]
     },
     "execution_count": 498,
     "metadata": {},
     "output_type": "execute_result"
    }
   ],
   "source": [
    "df"
   ]
  },
  {
   "cell_type": "code",
   "execution_count": 499,
   "metadata": {},
   "outputs": [
    {
     "name": "stdout",
     "output_type": "stream",
     "text": [
      "['price', 'bedrooms', 'bathrooms', 'sqft_living', 'sqft_lot', 'floors', 'waterfront', 'view', 'condition', 'grade', 'sqft_above', 'sqft_basement', 'yr_built', 'yr_renovated', 'zipcode', 'lat', 'long', 'sqft_living15', 'sqft_lot15', 'Income', 'house_age', 'year_sold', 'season', 'renovated']\n"
     ]
    }
   ],
   "source": [
    "print(df.columns.tolist())"
   ]
  },
  {
   "cell_type": "code",
   "execution_count": 522,
   "metadata": {},
   "outputs": [],
   "source": [
    "#df = df.drop([\"sqft_above\", \"sqft_living15\", \"sqft_lot15\", \"lat\", \"long\",'floors','sqft_basement',\n",
    "#                 'yr_renovated','renovated','waterfront', 'sqft_lot','yr_built', 'condition', 'zipcode',\n",
    "#                    'year_sold','season', 'house_age','Income','grade'], axis=1)"
   ]
  },
  {
   "cell_type": "code",
   "execution_count": 501,
   "metadata": {},
   "outputs": [],
   "source": [
    "df2 = df.to_numpy()"
   ]
  },
  {
   "cell_type": "code",
   "execution_count": 502,
   "metadata": {},
   "outputs": [
    {
     "data": {
      "text/plain": [
       "array([ 221900.,  205425.,  445000., ..., 1450000., 1350000., 1410000.])"
      ]
     },
     "execution_count": 502,
     "metadata": {},
     "output_type": "execute_result"
    }
   ],
   "source": [
    "y = df2[:, 0]\n",
    "y"
   ]
  },
  {
   "cell_type": "code",
   "execution_count": 503,
   "metadata": {},
   "outputs": [
    {
     "data": {
      "text/plain": [
       "array([[3.00e+00, 1.00e+00, 1.18e+03, 4.00e+00],\n",
       "       [2.00e+00, 1.00e+00, 8.80e+02, 4.00e+00],\n",
       "       [3.00e+00, 2.25e+00, 2.10e+03, 0.00e+00],\n",
       "       ...,\n",
       "       [5.00e+00, 2.75e+00, 3.09e+03, 4.00e+00],\n",
       "       [3.00e+00, 2.00e+00, 2.07e+03, 2.00e+00],\n",
       "       [4.00e+00, 2.25e+00, 3.25e+03, 4.00e+00]])"
      ]
     },
     "execution_count": 503,
     "metadata": {},
     "output_type": "execute_result"
    }
   ],
   "source": [
    "X = df2[:,1:]\n",
    "X"
   ]
  },
  {
   "cell_type": "code",
   "execution_count": 504,
   "metadata": {},
   "outputs": [],
   "source": [
    "X_train, X_test, y_train, y_test = train_test_split(X, y, test_size=0.2, random_state=42)"
   ]
  },
  {
   "cell_type": "code",
   "execution_count": 505,
   "metadata": {},
   "outputs": [
    {
     "name": "stdout",
     "output_type": "stream",
     "text": [
      "(16532, 4)\n",
      "(4134, 4)\n",
      "(16532,)\n",
      "(4134,)\n"
     ]
    }
   ],
   "source": [
    "print(X_train.shape)\n",
    "print(X_test.shape)\n",
    "print(y_train.shape)\n",
    "print(y_test.shape)"
   ]
  },
  {
   "cell_type": "code",
   "execution_count": 506,
   "metadata": {},
   "outputs": [],
   "source": [
    "data_transformation = preprocessing.StandardScaler()\n",
    "data = data_transformation.fit_transform(X_train)"
   ]
  },
  {
   "cell_type": "code",
   "execution_count": 507,
   "metadata": {},
   "outputs": [
    {
     "name": "stdout",
     "output_type": "stream",
     "text": [
      "496237.6535809339\n",
      "[-26278.35722423   8656.18386253 157457.14060045 -32791.76720814]\n"
     ]
    }
   ],
   "source": [
    "model = LinearRegression().fit(data, y_train)\n",
    "print(model.intercept_)\n",
    "print(model.coef_)"
   ]
  },
  {
   "cell_type": "code",
   "execution_count": 508,
   "metadata": {},
   "outputs": [
    {
     "data": {
      "text/plain": [
       "0.4320547316546165"
      ]
     },
     "execution_count": 508,
     "metadata": {},
     "output_type": "execute_result"
    }
   ],
   "source": [
    "accuracy = model.score(data, y_train)\n",
    "accuracy"
   ]
  },
  {
   "cell_type": "code",
   "execution_count": 509,
   "metadata": {},
   "outputs": [
    {
     "data": {
      "text/plain": [
       "0.4504170220693666"
      ]
     },
     "execution_count": 509,
     "metadata": {},
     "output_type": "execute_result"
    }
   ],
   "source": [
    "test_accuracy = model.score(data_transformation.transform((X_test)), y_test)\n",
    "test_accuracy"
   ]
  },
  {
   "cell_type": "code",
   "execution_count": 510,
   "metadata": {},
   "outputs": [],
   "source": [
    "y_pred = model.predict(data_transformation.transform(X_test))"
   ]
  },
  {
   "cell_type": "code",
   "execution_count": 511,
   "metadata": {},
   "outputs": [
    {
     "data": {
      "text/plain": [
       "array([374979.15575284, 381523.94097725, 650453.54565409, ...,\n",
       "       252261.95432573, 358606.18283089, 573949.87803155])"
      ]
     },
     "execution_count": 511,
     "metadata": {},
     "output_type": "execute_result"
    }
   ],
   "source": [
    "y_pred"
   ]
  },
  {
   "cell_type": "code",
   "execution_count": 512,
   "metadata": {},
   "outputs": [
    {
     "name": "stdout",
     "output_type": "stream",
     "text": [
      "Mean Absolute Error: 137709.71332426535\n",
      "Mean Squared Error: 31638472787.581882\n",
      "Root Mean Squared Error: 177872.0685987035\n"
     ]
    }
   ],
   "source": [
    "print('Mean Absolute Error:', metrics.mean_absolute_error(y_test, y_pred))\n",
    "print('Mean Squared Error:', metrics.mean_squared_error(y_test, y_pred))\n",
    "print('Root Mean Squared Error:', np.sqrt(metrics.mean_squared_error(y_test, y_pred)))"
   ]
  },
  {
   "cell_type": "code",
   "execution_count": 513,
   "metadata": {},
   "outputs": [
    {
     "data": {
      "text/html": [
       "<div>\n",
       "<style scoped>\n",
       "    .dataframe tbody tr th:only-of-type {\n",
       "        vertical-align: middle;\n",
       "    }\n",
       "\n",
       "    .dataframe tbody tr th {\n",
       "        vertical-align: top;\n",
       "    }\n",
       "\n",
       "    .dataframe thead th {\n",
       "        text-align: right;\n",
       "    }\n",
       "</style>\n",
       "<table border=\"1\" class=\"dataframe\">\n",
       "  <thead>\n",
       "    <tr style=\"text-align: right;\">\n",
       "      <th></th>\n",
       "      <th>Actual value</th>\n",
       "      <th>Predicted value</th>\n",
       "      <th>Difference</th>\n",
       "    </tr>\n",
       "  </thead>\n",
       "  <tbody>\n",
       "    <tr>\n",
       "      <th>0</th>\n",
       "      <td>386500.0</td>\n",
       "      <td>374979.155753</td>\n",
       "      <td>11520.84</td>\n",
       "    </tr>\n",
       "    <tr>\n",
       "      <th>1</th>\n",
       "      <td>410000.0</td>\n",
       "      <td>381523.940977</td>\n",
       "      <td>28476.06</td>\n",
       "    </tr>\n",
       "    <tr>\n",
       "      <th>2</th>\n",
       "      <td>460000.0</td>\n",
       "      <td>650453.545654</td>\n",
       "      <td>-190453.55</td>\n",
       "    </tr>\n",
       "    <tr>\n",
       "      <th>3</th>\n",
       "      <td>467000.0</td>\n",
       "      <td>453450.858232</td>\n",
       "      <td>13549.14</td>\n",
       "    </tr>\n",
       "    <tr>\n",
       "      <th>4</th>\n",
       "      <td>323000.0</td>\n",
       "      <td>323134.660595</td>\n",
       "      <td>-134.66</td>\n",
       "    </tr>\n",
       "  </tbody>\n",
       "</table>\n",
       "</div>"
      ],
      "text/plain": [
       "   Actual value  Predicted value  Difference\n",
       "0      386500.0    374979.155753    11520.84\n",
       "1      410000.0    381523.940977    28476.06\n",
       "2      460000.0    650453.545654  -190453.55\n",
       "3      467000.0    453450.858232    13549.14\n",
       "4      323000.0    323134.660595     -134.66"
      ]
     },
     "execution_count": 513,
     "metadata": {},
     "output_type": "execute_result"
    }
   ],
   "source": [
    "model1 = pd.DataFrame({'Actual value': y_test, 'Predicted value': y_pred, \"Difference\" : (y_test-y_pred).round(2)})\n",
    "model1.head()\n"
   ]
  },
  {
   "cell_type": "code",
   "execution_count": 514,
   "metadata": {},
   "outputs": [
    {
     "data": {
      "text/plain": [
       "321.514450895017"
      ]
     },
     "execution_count": 514,
     "metadata": {},
     "output_type": "execute_result"
    }
   ],
   "source": [
    "model1[\"Difference\"].mean()"
   ]
  },
  {
   "cell_type": "code",
   "execution_count": 515,
   "metadata": {},
   "outputs": [
    {
     "data": {
      "text/plain": [
       "177872.0685987035"
      ]
     },
     "execution_count": 515,
     "metadata": {},
     "output_type": "execute_result"
    }
   ],
   "source": [
    "MSE = np.square(np.subtract(y_test1,y_pred)).mean() \n",
    " \n",
    "RMSE = math.sqrt(MSE)\n",
    "RMSE\n"
   ]
  },
  {
   "cell_type": "code",
   "execution_count": 516,
   "metadata": {},
   "outputs": [
    {
     "data": {
      "text/plain": [
       "4134"
      ]
     },
     "execution_count": 516,
     "metadata": {},
     "output_type": "execute_result"
    }
   ],
   "source": [
    "len(X_test)"
   ]
  },
  {
   "cell_type": "code",
   "execution_count": 517,
   "metadata": {},
   "outputs": [
    {
     "data": {
      "text/plain": [
       "4134"
      ]
     },
     "execution_count": 517,
     "metadata": {},
     "output_type": "execute_result"
    }
   ],
   "source": [
    "len(y_test)"
   ]
  },
  {
   "cell_type": "code",
   "execution_count": 518,
   "metadata": {},
   "outputs": [
    {
     "data": {
      "image/png": "[encoded data removed]",
      "text/plain": [
       "<Figure size 432x288 with 1 Axes>"
      ]
     },
     "metadata": {
      "needs_background": "light"
     },
     "output_type": "display_data"
    }
   ],
   "source": [
    "preds = model.predict(X_test)\n",
    "fig, ax = plt.subplots()\n",
    "\n",
    "perfect_line = np.arange(y_test.min(), y_test.max())\n",
    "ax.plot(perfect_line, linestyle=\"--\", color=\"orange\", label=\"Perfect Fit\")\n",
    "ax.scatter(y_test, preds, alpha=0.5)\n",
    "ax.set_xlabel(\"Actual Price\")\n",
    "ax.set_ylabel(\"Predicted Price\")\n",
    "ax.legend();"
   ]
  },
  {
   "cell_type": "code",
   "execution_count": 519,
   "metadata": {},
   "outputs": [
    {
     "data": {
      "image/png": "[encoded data removed]",
      "text/plain": [
       "<Figure size 432x288 with 1 Axes>"
      ]
     },
     "metadata": {
      "needs_background": "light"
     },
     "output_type": "display_data"
    }
   ],
   "source": [
    "import scipy.stats as stats\n",
    "residuals = (y_test - preds)\n",
    "sm.graphics.qqplot(residuals, dist=stats.norm, line='45', fit=True);"
   ]
  },
  {
   "cell_type": "code",
   "execution_count": 520,
   "metadata": {},
   "outputs": [
    {
     "data": {
      "image/png": "[encoded data removed]",
      "text/plain": [
       "<Figure size 432x288 with 1 Axes>"
      ]
     },
     "metadata": {
      "needs_background": "light"
     },
     "output_type": "display_data"
    }
   ],
   "source": [
    "fig, ax = plt.subplots()\n",
    "\n",
    "ax.scatter(preds, residuals, alpha=0.5)\n",
    "ax.plot(preds, [0 for i in range(len(X_test))])\n",
    "ax.set_xlabel(\"Predicted Value\")\n",
    "ax.set_ylabel(\"Actual - Predicted Value\");"
   ]
  },
  {
   "cell_type": "code",
   "execution_count": null,
   "metadata": {},
   "outputs": [],
   "source": []
  }
 ],
 "metadata": {
  "kernelspec": {
   "display_name": "Python 3 (ipykernel)",
   "language": "python",
   "name": "python3"
  },
  "language_info": {
   "codemirror_mode": {
    "name": "ipython",
    "version": 3
   },
   "file_extension": ".py",
   "mimetype": "text/x-python",
   "name": "python",
   "nbconvert_exporter": "python",
   "pygments_lexer": "ipython3",
   "version": "3.8.12"
  }
 },
 "nbformat": 4,
 "nbformat_minor": 4
}
