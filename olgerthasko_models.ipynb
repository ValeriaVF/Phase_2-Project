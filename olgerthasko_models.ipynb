{
 "cells": [
  {
   "cell_type": "markdown",
   "metadata": {},
   "source": [
    "## Final Project Submission\n",
    "\n",
    "Please fill out:\n",
    "* Student name: \n",
    "* Student pace: self paced / part time / full time\n",
    "* Scheduled project review date/time: \n",
    "* Instructor name: \n",
    "* Blog post URL:\n"
   ]
  },
  {
   "cell_type": "markdown",
   "metadata": {},
   "source": [
    "Possible questions\n",
    "\n",
    "Does area income effect price of houses\n",
    "\n",
    "Does grade have an effect on housing price\n",
    "\n",
    "Does property size effect housing price\n",
    "\n",
    "Does Age of property effect price"
   ]
  },
  {
   "cell_type": "code",
   "execution_count": 252,
   "metadata": {},
   "outputs": [],
   "source": [
    "#find lat and long of city center then subtract out lat and long form it to find the difference \n",
    "# weak correlation to test in model Floor waterfront view and grade "
   ]
  },
  {
   "cell_type": "code",
   "execution_count": 253,
   "metadata": {},
   "outputs": [],
   "source": [
    "#Importing libraries\n",
    "import pandas as pd\n",
    "import matplotlib.pyplot as plt\n",
    "import matplotlib.image as mpimg\n",
    "import seaborn as sns\n",
    "import numpy as np\n",
    "from datetime import datetime\n",
    "import statsmodels.formula.api as smf\n",
    "import statsmodels.api as sm\n",
    "from statsmodels.stats.outliers_influence import variance_inflation_factor\n",
    "from sklearn.model_selection import train_test_split\n",
    "from sklearn import preprocessing\n",
    "from sklearn.linear_model import LinearRegression\n",
    "from sklearn.model_selection import cross_validate, ShuffleSplit\n",
    "from sklearn import metrics\n",
    "from scipy import stats\n",
    "import math\n",
    "from PIL import Image"
   ]
  },
  {
   "cell_type": "code",
   "execution_count": 254,
   "metadata": {},
   "outputs": [],
   "source": [
    "df = pd.read_csv(\"data/kc_house_data_clean.csv\")\n",
    "df =df.drop([\"Unnamed: 0\"], axis = 1)"
   ]
  },
  {
   "cell_type": "markdown",
   "metadata": {},
   "source": [
    "Initial Model"
   ]
  },
  {
   "cell_type": "markdown",
   "metadata": {},
   "source": [
    "Possibly drop\n",
    "\n",
    "br : sqft liv\n",
    "\n",
    "sqft liv 15 : sqft liv\n",
    "\n",
    "sqft above : sqft liv\n",
    "\n",
    "sqft lot 15 : sqft lot\n",
    "\n",
    "\n",
    "\n",
    "Keep sqft_living, drop sqft_above, sqft_living15 due to high collinearity \n",
    "\n",
    "Keep sqft_lot drop sqft_lot15"
   ]
  },
  {
   "cell_type": "markdown",
   "metadata": {},
   "source": [
    "df = df.drop([\"sqft_above\", \"sqft_living15\", \"sqft_lot15\", \"lat\", \"long\" ], axis=1)"
   ]
  },
  {
   "cell_type": "markdown",
   "metadata": {},
   "source": [
    "Although the above table shows that there is a high collinearity between bedrooms and sqft_living, we believe that the number of bedrooms will play a key role in the price of the home, will revisit after modeling to verify if we need"
   ]
  },
  {
   "cell_type": "code",
   "execution_count": 255,
   "metadata": {},
   "outputs": [],
   "source": [
    "X = df.drop(\"price\", axis=1)\n",
    "y= df[\"price\"]"
   ]
  },
  {
   "cell_type": "code",
   "execution_count": 256,
   "metadata": {},
   "outputs": [],
   "source": [
    "X_train, X_test, y_train, y_test = train_test_split(X, y, test_size=0.2, random_state=42)"
   ]
  },
  {
   "cell_type": "code",
   "execution_count": 257,
   "metadata": {},
   "outputs": [
    {
     "name": "stdout",
     "output_type": "stream",
     "text": [
      "(16532, 23)\n",
      "(4134, 23)\n",
      "(16532,)\n",
      "(4134,)\n"
     ]
    }
   ],
   "source": [
    "print(X_train.shape)\n",
    "print(X_test.shape)\n",
    "print(y_train.shape)\n",
    "print(y_test.shape)"
   ]
  },
  {
   "cell_type": "code",
   "execution_count": 258,
   "metadata": {},
   "outputs": [],
   "source": [
    "X_train = X_train.apply(pd.to_numeric)"
   ]
  },
  {
   "cell_type": "code",
   "execution_count": 259,
   "metadata": {},
   "outputs": [
    {
     "name": "stdout",
     "output_type": "stream",
     "text": [
      "(16532, 23)\n",
      "(4134, 23)\n",
      "(16532,)\n",
      "(4134,)\n"
     ]
    }
   ],
   "source": [
    "print(X_train.shape)\n",
    "print(X_test.shape)\n",
    "print(y_train.shape)\n",
    "print(y_test.shape)"
   ]
  },
  {
   "cell_type": "code",
   "execution_count": 260,
   "metadata": {},
   "outputs": [
    {
     "data": {
      "text/html": [
       "<div>\n",
       "<style scoped>\n",
       "    .dataframe tbody tr th:only-of-type {\n",
       "        vertical-align: middle;\n",
       "    }\n",
       "\n",
       "    .dataframe tbody tr th {\n",
       "        vertical-align: top;\n",
       "    }\n",
       "\n",
       "    .dataframe thead th {\n",
       "        text-align: right;\n",
       "    }\n",
       "</style>\n",
       "<table border=\"1\" class=\"dataframe\">\n",
       "  <thead>\n",
       "    <tr style=\"text-align: right;\">\n",
       "      <th></th>\n",
       "      <th>bedrooms</th>\n",
       "      <th>bathrooms</th>\n",
       "      <th>sqft_living</th>\n",
       "      <th>sqft_lot</th>\n",
       "      <th>floors</th>\n",
       "      <th>waterfront</th>\n",
       "      <th>condition</th>\n",
       "      <th>grade</th>\n",
       "      <th>sqft_above</th>\n",
       "      <th>sqft_basement</th>\n",
       "      <th>...</th>\n",
       "      <th>lat</th>\n",
       "      <th>long</th>\n",
       "      <th>sqft_living15</th>\n",
       "      <th>sqft_lot15</th>\n",
       "      <th>Income</th>\n",
       "      <th>house_age</th>\n",
       "      <th>year_sold</th>\n",
       "      <th>season</th>\n",
       "      <th>renovated</th>\n",
       "      <th>view_cat</th>\n",
       "    </tr>\n",
       "  </thead>\n",
       "  <tbody>\n",
       "    <tr>\n",
       "      <th>0</th>\n",
       "      <td>3</td>\n",
       "      <td>1.00</td>\n",
       "      <td>1180</td>\n",
       "      <td>5650</td>\n",
       "      <td>1.0</td>\n",
       "      <td>0</td>\n",
       "      <td>0</td>\n",
       "      <td>8</td>\n",
       "      <td>1180</td>\n",
       "      <td>0.0</td>\n",
       "      <td>...</td>\n",
       "      <td>47.5112</td>\n",
       "      <td>-122.257</td>\n",
       "      <td>1340</td>\n",
       "      <td>5650</td>\n",
       "      <td>113555.0</td>\n",
       "      <td>67</td>\n",
       "      <td>2014</td>\n",
       "      <td>3</td>\n",
       "      <td>0</td>\n",
       "      <td>0</td>\n",
       "    </tr>\n",
       "    <tr>\n",
       "      <th>1</th>\n",
       "      <td>2</td>\n",
       "      <td>1.00</td>\n",
       "      <td>880</td>\n",
       "      <td>6780</td>\n",
       "      <td>1.0</td>\n",
       "      <td>0</td>\n",
       "      <td>2</td>\n",
       "      <td>7</td>\n",
       "      <td>880</td>\n",
       "      <td>0.0</td>\n",
       "      <td>...</td>\n",
       "      <td>47.5009</td>\n",
       "      <td>-122.248</td>\n",
       "      <td>1190</td>\n",
       "      <td>6780</td>\n",
       "      <td>113555.0</td>\n",
       "      <td>77</td>\n",
       "      <td>2014</td>\n",
       "      <td>1</td>\n",
       "      <td>0</td>\n",
       "      <td>0</td>\n",
       "    </tr>\n",
       "    <tr>\n",
       "      <th>2</th>\n",
       "      <td>3</td>\n",
       "      <td>2.25</td>\n",
       "      <td>2100</td>\n",
       "      <td>8201</td>\n",
       "      <td>1.0</td>\n",
       "      <td>0</td>\n",
       "      <td>0</td>\n",
       "      <td>9</td>\n",
       "      <td>1620</td>\n",
       "      <td>480.0</td>\n",
       "      <td>...</td>\n",
       "      <td>47.5091</td>\n",
       "      <td>-122.244</td>\n",
       "      <td>2660</td>\n",
       "      <td>8712</td>\n",
       "      <td>113555.0</td>\n",
       "      <td>55</td>\n",
       "      <td>2014</td>\n",
       "      <td>2</td>\n",
       "      <td>0</td>\n",
       "      <td>1</td>\n",
       "    </tr>\n",
       "    <tr>\n",
       "      <th>3</th>\n",
       "      <td>3</td>\n",
       "      <td>1.00</td>\n",
       "      <td>1300</td>\n",
       "      <td>5898</td>\n",
       "      <td>1.0</td>\n",
       "      <td>0</td>\n",
       "      <td>0</td>\n",
       "      <td>8</td>\n",
       "      <td>1300</td>\n",
       "      <td>0.0</td>\n",
       "      <td>...</td>\n",
       "      <td>47.5053</td>\n",
       "      <td>-122.255</td>\n",
       "      <td>1320</td>\n",
       "      <td>7619</td>\n",
       "      <td>113555.0</td>\n",
       "      <td>61</td>\n",
       "      <td>2014</td>\n",
       "      <td>2</td>\n",
       "      <td>0</td>\n",
       "      <td>0</td>\n",
       "    </tr>\n",
       "    <tr>\n",
       "      <th>4</th>\n",
       "      <td>2</td>\n",
       "      <td>1.00</td>\n",
       "      <td>860</td>\n",
       "      <td>5265</td>\n",
       "      <td>1.0</td>\n",
       "      <td>0</td>\n",
       "      <td>0</td>\n",
       "      <td>7</td>\n",
       "      <td>860</td>\n",
       "      <td>0.0</td>\n",
       "      <td>...</td>\n",
       "      <td>47.5048</td>\n",
       "      <td>-122.272</td>\n",
       "      <td>1650</td>\n",
       "      <td>8775</td>\n",
       "      <td>113555.0</td>\n",
       "      <td>91</td>\n",
       "      <td>2015</td>\n",
       "      <td>0</td>\n",
       "      <td>0</td>\n",
       "      <td>0</td>\n",
       "    </tr>\n",
       "    <tr>\n",
       "      <th>...</th>\n",
       "      <td>...</td>\n",
       "      <td>...</td>\n",
       "      <td>...</td>\n",
       "      <td>...</td>\n",
       "      <td>...</td>\n",
       "      <td>...</td>\n",
       "      <td>...</td>\n",
       "      <td>...</td>\n",
       "      <td>...</td>\n",
       "      <td>...</td>\n",
       "      <td>...</td>\n",
       "      <td>...</td>\n",
       "      <td>...</td>\n",
       "      <td>...</td>\n",
       "      <td>...</td>\n",
       "      <td>...</td>\n",
       "      <td>...</td>\n",
       "      <td>...</td>\n",
       "      <td>...</td>\n",
       "      <td>...</td>\n",
       "      <td>...</td>\n",
       "    </tr>\n",
       "    <tr>\n",
       "      <th>20661</th>\n",
       "      <td>3</td>\n",
       "      <td>2.50</td>\n",
       "      <td>3110</td>\n",
       "      <td>9930</td>\n",
       "      <td>1.0</td>\n",
       "      <td>0</td>\n",
       "      <td>0</td>\n",
       "      <td>9</td>\n",
       "      <td>1640</td>\n",
       "      <td>1470.0</td>\n",
       "      <td>...</td>\n",
       "      <td>47.6112</td>\n",
       "      <td>-122.226</td>\n",
       "      <td>3650</td>\n",
       "      <td>14399</td>\n",
       "      <td>7190.0</td>\n",
       "      <td>68</td>\n",
       "      <td>2014</td>\n",
       "      <td>2</td>\n",
       "      <td>0</td>\n",
       "      <td>1</td>\n",
       "    </tr>\n",
       "    <tr>\n",
       "      <th>20662</th>\n",
       "      <td>4</td>\n",
       "      <td>3.00</td>\n",
       "      <td>2150</td>\n",
       "      <td>8119</td>\n",
       "      <td>2.0</td>\n",
       "      <td>0</td>\n",
       "      <td>0</td>\n",
       "      <td>9</td>\n",
       "      <td>2150</td>\n",
       "      <td>0.0</td>\n",
       "      <td>...</td>\n",
       "      <td>47.6335</td>\n",
       "      <td>-122.236</td>\n",
       "      <td>1590</td>\n",
       "      <td>8119</td>\n",
       "      <td>7190.0</td>\n",
       "      <td>69</td>\n",
       "      <td>2015</td>\n",
       "      <td>1</td>\n",
       "      <td>1</td>\n",
       "      <td>0</td>\n",
       "    </tr>\n",
       "    <tr>\n",
       "      <th>20663</th>\n",
       "      <td>5</td>\n",
       "      <td>2.75</td>\n",
       "      <td>3090</td>\n",
       "      <td>19865</td>\n",
       "      <td>1.0</td>\n",
       "      <td>0</td>\n",
       "      <td>2</td>\n",
       "      <td>10</td>\n",
       "      <td>3090</td>\n",
       "      <td>0.0</td>\n",
       "      <td>...</td>\n",
       "      <td>47.6232</td>\n",
       "      <td>-122.235</td>\n",
       "      <td>2970</td>\n",
       "      <td>19862</td>\n",
       "      <td>7190.0</td>\n",
       "      <td>69</td>\n",
       "      <td>2014</td>\n",
       "      <td>3</td>\n",
       "      <td>0</td>\n",
       "      <td>0</td>\n",
       "    </tr>\n",
       "    <tr>\n",
       "      <th>20664</th>\n",
       "      <td>3</td>\n",
       "      <td>2.00</td>\n",
       "      <td>2070</td>\n",
       "      <td>9600</td>\n",
       "      <td>1.0</td>\n",
       "      <td>0</td>\n",
       "      <td>0</td>\n",
       "      <td>8</td>\n",
       "      <td>1590</td>\n",
       "      <td>480.0</td>\n",
       "      <td>...</td>\n",
       "      <td>47.6160</td>\n",
       "      <td>-122.239</td>\n",
       "      <td>3000</td>\n",
       "      <td>16215</td>\n",
       "      <td>7190.0</td>\n",
       "      <td>76</td>\n",
       "      <td>2014</td>\n",
       "      <td>2</td>\n",
       "      <td>0</td>\n",
       "      <td>1</td>\n",
       "    </tr>\n",
       "    <tr>\n",
       "      <th>20665</th>\n",
       "      <td>4</td>\n",
       "      <td>2.25</td>\n",
       "      <td>3250</td>\n",
       "      <td>16684</td>\n",
       "      <td>2.0</td>\n",
       "      <td>0</td>\n",
       "      <td>0</td>\n",
       "      <td>10</td>\n",
       "      <td>3250</td>\n",
       "      <td>0.0</td>\n",
       "      <td>...</td>\n",
       "      <td>47.6334</td>\n",
       "      <td>-122.229</td>\n",
       "      <td>2890</td>\n",
       "      <td>16927</td>\n",
       "      <td>7190.0</td>\n",
       "      <td>43</td>\n",
       "      <td>2014</td>\n",
       "      <td>1</td>\n",
       "      <td>0</td>\n",
       "      <td>0</td>\n",
       "    </tr>\n",
       "  </tbody>\n",
       "</table>\n",
       "<p>20666 rows × 23 columns</p>\n",
       "</div>"
      ],
      "text/plain": [
       "       bedrooms  bathrooms  sqft_living  sqft_lot  floors  waterfront  \\\n",
       "0             3       1.00         1180      5650     1.0           0   \n",
       "1             2       1.00          880      6780     1.0           0   \n",
       "2             3       2.25         2100      8201     1.0           0   \n",
       "3             3       1.00         1300      5898     1.0           0   \n",
       "4             2       1.00          860      5265     1.0           0   \n",
       "...         ...        ...          ...       ...     ...         ...   \n",
       "20661         3       2.50         3110      9930     1.0           0   \n",
       "20662         4       3.00         2150      8119     2.0           0   \n",
       "20663         5       2.75         3090     19865     1.0           0   \n",
       "20664         3       2.00         2070      9600     1.0           0   \n",
       "20665         4       2.25         3250     16684     2.0           0   \n",
       "\n",
       "       condition  grade  sqft_above  sqft_basement  ...      lat     long  \\\n",
       "0              0      8        1180            0.0  ...  47.5112 -122.257   \n",
       "1              2      7         880            0.0  ...  47.5009 -122.248   \n",
       "2              0      9        1620          480.0  ...  47.5091 -122.244   \n",
       "3              0      8        1300            0.0  ...  47.5053 -122.255   \n",
       "4              0      7         860            0.0  ...  47.5048 -122.272   \n",
       "...          ...    ...         ...            ...  ...      ...      ...   \n",
       "20661          0      9        1640         1470.0  ...  47.6112 -122.226   \n",
       "20662          0      9        2150            0.0  ...  47.6335 -122.236   \n",
       "20663          2     10        3090            0.0  ...  47.6232 -122.235   \n",
       "20664          0      8        1590          480.0  ...  47.6160 -122.239   \n",
       "20665          0     10        3250            0.0  ...  47.6334 -122.229   \n",
       "\n",
       "       sqft_living15  sqft_lot15    Income  house_age  year_sold  season  \\\n",
       "0               1340        5650  113555.0         67       2014       3   \n",
       "1               1190        6780  113555.0         77       2014       1   \n",
       "2               2660        8712  113555.0         55       2014       2   \n",
       "3               1320        7619  113555.0         61       2014       2   \n",
       "4               1650        8775  113555.0         91       2015       0   \n",
       "...              ...         ...       ...        ...        ...     ...   \n",
       "20661           3650       14399    7190.0         68       2014       2   \n",
       "20662           1590        8119    7190.0         69       2015       1   \n",
       "20663           2970       19862    7190.0         69       2014       3   \n",
       "20664           3000       16215    7190.0         76       2014       2   \n",
       "20665           2890       16927    7190.0         43       2014       1   \n",
       "\n",
       "       renovated  view_cat  \n",
       "0              0         0  \n",
       "1              0         0  \n",
       "2              0         1  \n",
       "3              0         0  \n",
       "4              0         0  \n",
       "...          ...       ...  \n",
       "20661          0         1  \n",
       "20662          1         0  \n",
       "20663          0         0  \n",
       "20664          0         1  \n",
       "20665          0         0  \n",
       "\n",
       "[20666 rows x 23 columns]"
      ]
     },
     "execution_count": 260,
     "metadata": {},
     "output_type": "execute_result"
    }
   ],
   "source": [
    "X_train = df.drop(\"price\", axis=1)\n",
    "y_train = df[\"price\"]\n",
    "\n",
    "X_test = df.drop(\"price\", axis=1)\n",
    "y_test = df[\"price\"]\n",
    "\n",
    "X_train"
   ]
  },
  {
   "cell_type": "code",
   "execution_count": 261,
   "metadata": {},
   "outputs": [],
   "source": [
    "season_model = X_train[\"season\"]\n",
    "season_model = pd.DataFrame(season_model) "
   ]
  },
  {
   "cell_type": "code",
   "execution_count": 262,
   "metadata": {},
   "outputs": [
    {
     "name": "stdout",
     "output_type": "stream",
     "text": [
      "Train score:      0.6620494340336868\n",
      "Validation score: 0.6611729709858393\n"
     ]
    }
   ],
   "source": [
    "baseline_model = LinearRegression()\n",
    "\n",
    "splitter = ShuffleSplit(n_splits=3, test_size=0.25, random_state=0)\n",
    "\n",
    "baseline_scores = cross_validate(\n",
    "    estimator=baseline_model,\n",
    "    X=X_train,\n",
    "    y=y_train,\n",
    "    return_train_score=True,\n",
    "    cv=splitter\n",
    ")\n",
    "\n",
    "print(\"Train score:     \", baseline_scores[\"train_score\"].mean())\n",
    "print(\"Validation score:\", baseline_scores[\"test_score\"].mean())"
   ]
  },
  {
   "cell_type": "code",
   "execution_count": 263,
   "metadata": {},
   "outputs": [],
   "source": [
    "df_numerical = df[['price', 'bedrooms','bathrooms', 'sqft_living', 'floors', 'sqft_lot', 'sqft_basement', 'sqft_living15', 'sqft_lot15','Income',]].copy()"
   ]
  },
  {
   "cell_type": "code",
   "execution_count": 264,
   "metadata": {},
   "outputs": [],
   "source": [
    "df_numerical1 = df[['price', 'bedrooms','bathrooms', 'sqft_living', 'floors', 'sqft_lot', 'sqft_basement', 'Income',]].copy()"
   ]
  },
  {
   "cell_type": "code",
   "execution_count": 265,
   "metadata": {},
   "outputs": [
    {
     "data": {
      "text/html": [
       "<div>\n",
       "<style scoped>\n",
       "    .dataframe tbody tr th:only-of-type {\n",
       "        vertical-align: middle;\n",
       "    }\n",
       "\n",
       "    .dataframe tbody tr th {\n",
       "        vertical-align: top;\n",
       "    }\n",
       "\n",
       "    .dataframe thead th {\n",
       "        text-align: right;\n",
       "    }\n",
       "</style>\n",
       "<table border=\"1\" class=\"dataframe\">\n",
       "  <thead>\n",
       "    <tr style=\"text-align: right;\">\n",
       "      <th></th>\n",
       "      <th>VIF Factor</th>\n",
       "      <th>features</th>\n",
       "    </tr>\n",
       "  </thead>\n",
       "  <tbody>\n",
       "    <tr>\n",
       "      <th>0</th>\n",
       "      <td>8.87</td>\n",
       "      <td>price</td>\n",
       "    </tr>\n",
       "    <tr>\n",
       "      <th>1</th>\n",
       "      <td>19.35</td>\n",
       "      <td>bedrooms</td>\n",
       "    </tr>\n",
       "    <tr>\n",
       "      <th>2</th>\n",
       "      <td>24.28</td>\n",
       "      <td>bathrooms</td>\n",
       "    </tr>\n",
       "    <tr>\n",
       "      <th>3</th>\n",
       "      <td>27.66</td>\n",
       "      <td>sqft_living</td>\n",
       "    </tr>\n",
       "    <tr>\n",
       "      <th>4</th>\n",
       "      <td>14.35</td>\n",
       "      <td>floors</td>\n",
       "    </tr>\n",
       "    <tr>\n",
       "      <th>5</th>\n",
       "      <td>1.18</td>\n",
       "      <td>sqft_lot</td>\n",
       "    </tr>\n",
       "    <tr>\n",
       "      <th>6</th>\n",
       "      <td>2.23</td>\n",
       "      <td>sqft_basement</td>\n",
       "    </tr>\n",
       "    <tr>\n",
       "      <th>7</th>\n",
       "      <td>5.64</td>\n",
       "      <td>Income</td>\n",
       "    </tr>\n",
       "  </tbody>\n",
       "</table>\n",
       "</div>"
      ],
      "text/plain": [
       "   VIF Factor       features\n",
       "0        8.87          price\n",
       "1       19.35       bedrooms\n",
       "2       24.28      bathrooms\n",
       "3       27.66    sqft_living\n",
       "4       14.35         floors\n",
       "5        1.18       sqft_lot\n",
       "6        2.23  sqft_basement\n",
       "7        5.64         Income"
      ]
     },
     "execution_count": 265,
     "metadata": {},
     "output_type": "execute_result"
    }
   ],
   "source": [
    "vif = pd.DataFrame()\n",
    "vif[\"VIF Factor\"] = [variance_inflation_factor(df_numerical1.values, i) for i in range(df_numerical1.shape[1])]\n",
    "vif[\"features\"] = df_numerical1.columns\n",
    "vif.round(2)"
   ]
  },
  {
   "cell_type": "code",
   "execution_count": 266,
   "metadata": {},
   "outputs": [],
   "source": [
    "y = df[\"price\"]\n",
    "X = df.drop(\"price\", axis=1)"
   ]
  },
  {
   "cell_type": "code",
   "execution_count": 267,
   "metadata": {},
   "outputs": [
    {
     "name": "stdout",
     "output_type": "stream",
     "text": [
      "                            OLS Regression Results                            \n",
      "==============================================================================\n",
      "Dep. Variable:                  price   R-squared:                       0.662\n",
      "Model:                            OLS   Adj. R-squared:                  0.662\n",
      "Method:                 Least Squares   F-statistic:                     1838.\n",
      "Date:                Thu, 06 Jan 2022   Prob (F-statistic):               0.00\n",
      "Time:                        12:25:40   Log-Likelihood:            -2.7417e+05\n",
      "No. Observations:               20666   AIC:                         5.484e+05\n",
      "Df Residuals:                   20643   BIC:                         5.486e+05\n",
      "Df Model:                          22                                         \n",
      "Covariance Type:            nonrobust                                         \n",
      "=================================================================================\n",
      "                    coef    std err          t      P>|t|      [0.025      0.975]\n",
      "---------------------------------------------------------------------------------\n",
      "const           -48.8408      3.137    -15.569      0.000     -54.990     -42.692\n",
      "bedrooms       -2.13e+04   1485.656    -14.337      0.000   -2.42e+04   -1.84e+04\n",
      "bathrooms      3.726e+04   2393.400     15.569      0.000    3.26e+04     4.2e+04\n",
      "sqft_living     115.3530     13.680      8.432      0.000      88.539     142.167\n",
      "sqft_lot          0.2097      0.035      5.995      0.000       0.141       0.278\n",
      "floors         5.095e+04   2606.896     19.545      0.000    4.58e+04    5.61e+04\n",
      "waterfront     2.255e+05   1.68e+04     13.397      0.000    1.93e+05    2.59e+05\n",
      "condition      1.542e+04    876.552     17.587      0.000    1.37e+04    1.71e+04\n",
      "grade         -6888.4997    497.773    -13.839      0.000   -7864.174   -5912.826\n",
      "sqft_above       24.8481     13.656      1.820      0.069      -1.918      51.614\n",
      "sqft_basement     7.1820     13.544      0.530      0.596     -19.366      33.730\n",
      "yr_built      -5.007e+04   3170.115    -15.796      0.000   -5.63e+04   -4.39e+04\n",
      "yr_renovated   3614.9822    339.800     10.639      0.000    2948.948    4281.017\n",
      "zipcode       -1127.8442     64.349    -17.527      0.000   -1253.974   -1001.714\n",
      "lat             6.38e+05   7552.332     84.471      0.000    6.23e+05    6.53e+05\n",
      "long          -2.112e+05   9509.293    -22.205      0.000    -2.3e+05   -1.93e+05\n",
      "sqft_living15    79.9074      2.529     31.592      0.000      74.950      84.865\n",
      "sqft_lot15       -0.2476      0.055     -4.540      0.000      -0.355      -0.141\n",
      "Income           -0.2674      0.018    -14.690      0.000      -0.303      -0.232\n",
      "house_age     -4.868e+04   3173.214    -15.341      0.000   -5.49e+04   -4.25e+04\n",
      "year_sold       2.24e+04   3118.524      7.184      0.000    1.63e+04    2.85e+04\n",
      "season         1044.9388   1408.514      0.742      0.458   -1715.859    3805.737\n",
      "renovated     -7.163e+06   6.78e+05    -10.562      0.000   -8.49e+06   -5.83e+06\n",
      "view_cat       1.025e+05   3823.781     26.810      0.000     9.5e+04     1.1e+05\n",
      "==============================================================================\n",
      "Omnibus:                     3312.406   Durbin-Watson:                   1.192\n",
      "Prob(Omnibus):                  0.000   Jarque-Bera (JB):             9497.789\n",
      "Skew:                           0.856   Prob(JB):                         0.00\n",
      "Kurtosis:                       5.846   Cond. No.                     3.48e+20\n",
      "==============================================================================\n",
      "\n",
      "Notes:\n",
      "[1] Standard Errors assume that the covariance matrix of the errors is correctly specified.\n",
      "[2] The smallest eigenvalue is 4.25e-27. This might indicate that there are\n",
      "strong multicollinearity problems or that the design matrix is singular.\n"
     ]
    }
   ],
   "source": [
    "model = sm.OLS(y, sm.add_constant(X), missing = \"drop\").fit()\n",
    "results = model.summary()\n",
    "print(results)"
   ]
  },
  {
   "cell_type": "code",
   "execution_count": 268,
   "metadata": {},
   "outputs": [],
   "source": [
    "df = pd.read_csv(\"data/kc_house_data_clean.csv\")\n",
    "df =df.drop([\"Unnamed: 0\"], axis = 1)"
   ]
  },
  {
   "cell_type": "code",
   "execution_count": 269,
   "metadata": {},
   "outputs": [],
   "source": [
    "#df = df.drop([\"sqft_above\", \"sqft_living15\", \"sqft_lot15\", \"lat\", \"long\",'floors','sqft_basement',\n",
    "#                 'yr_renovated','renovated','waterfront', 'sqft_lot','yr_built', 'condition', 'zipcode',\n",
    "#                    'year_sold','season', 'house_age','Income','grade'], axis=1)"
   ]
  },
  {
   "cell_type": "code",
   "execution_count": 270,
   "metadata": {},
   "outputs": [],
   "source": [
    "df = df.drop([\"lat\",\"long\",\"sqft_above\",\"sqft_basement\"], axis=1)"
   ]
  },
  {
   "cell_type": "code",
   "execution_count": 271,
   "metadata": {},
   "outputs": [
    {
     "name": "stdout",
     "output_type": "stream",
     "text": [
      "['price', 'bedrooms', 'bathrooms', 'sqft_living', 'sqft_lot', 'floors', 'waterfront', 'condition', 'grade', 'yr_built', 'yr_renovated', 'zipcode', 'sqft_living15', 'sqft_lot15', 'Income', 'house_age', 'year_sold', 'season', 'renovated', 'view_cat']\n"
     ]
    }
   ],
   "source": [
    "print(df.columns.tolist())"
   ]
  },
  {
   "cell_type": "code",
   "execution_count": 272,
   "metadata": {},
   "outputs": [
    {
     "data": {
      "text/html": [
       "<div>\n",
       "<style scoped>\n",
       "    .dataframe tbody tr th:only-of-type {\n",
       "        vertical-align: middle;\n",
       "    }\n",
       "\n",
       "    .dataframe tbody tr th {\n",
       "        vertical-align: top;\n",
       "    }\n",
       "\n",
       "    .dataframe thead th {\n",
       "        text-align: right;\n",
       "    }\n",
       "</style>\n",
       "<table border=\"1\" class=\"dataframe\">\n",
       "  <thead>\n",
       "    <tr style=\"text-align: right;\">\n",
       "      <th></th>\n",
       "      <th>price</th>\n",
       "      <th>bedrooms</th>\n",
       "      <th>bathrooms</th>\n",
       "      <th>sqft_living</th>\n",
       "      <th>sqft_lot</th>\n",
       "      <th>floors</th>\n",
       "      <th>waterfront</th>\n",
       "      <th>condition</th>\n",
       "      <th>grade</th>\n",
       "      <th>yr_built</th>\n",
       "      <th>yr_renovated</th>\n",
       "      <th>zipcode</th>\n",
       "      <th>sqft_living15</th>\n",
       "      <th>sqft_lot15</th>\n",
       "      <th>Income</th>\n",
       "      <th>house_age</th>\n",
       "      <th>year_sold</th>\n",
       "      <th>season</th>\n",
       "      <th>renovated</th>\n",
       "      <th>view_cat</th>\n",
       "    </tr>\n",
       "  </thead>\n",
       "  <tbody>\n",
       "    <tr>\n",
       "      <th>0</th>\n",
       "      <td>221900.0</td>\n",
       "      <td>3</td>\n",
       "      <td>1.00</td>\n",
       "      <td>1180</td>\n",
       "      <td>5650</td>\n",
       "      <td>1.0</td>\n",
       "      <td>0</td>\n",
       "      <td>0</td>\n",
       "      <td>8</td>\n",
       "      <td>1955</td>\n",
       "      <td>0.0</td>\n",
       "      <td>66</td>\n",
       "      <td>1340</td>\n",
       "      <td>5650</td>\n",
       "      <td>113555.0</td>\n",
       "      <td>67</td>\n",
       "      <td>2014</td>\n",
       "      <td>3</td>\n",
       "      <td>0</td>\n",
       "      <td>0</td>\n",
       "    </tr>\n",
       "    <tr>\n",
       "      <th>1</th>\n",
       "      <td>205425.0</td>\n",
       "      <td>2</td>\n",
       "      <td>1.00</td>\n",
       "      <td>880</td>\n",
       "      <td>6780</td>\n",
       "      <td>1.0</td>\n",
       "      <td>0</td>\n",
       "      <td>2</td>\n",
       "      <td>7</td>\n",
       "      <td>1945</td>\n",
       "      <td>0.0</td>\n",
       "      <td>66</td>\n",
       "      <td>1190</td>\n",
       "      <td>6780</td>\n",
       "      <td>113555.0</td>\n",
       "      <td>77</td>\n",
       "      <td>2014</td>\n",
       "      <td>1</td>\n",
       "      <td>0</td>\n",
       "      <td>0</td>\n",
       "    </tr>\n",
       "    <tr>\n",
       "      <th>2</th>\n",
       "      <td>445000.0</td>\n",
       "      <td>3</td>\n",
       "      <td>2.25</td>\n",
       "      <td>2100</td>\n",
       "      <td>8201</td>\n",
       "      <td>1.0</td>\n",
       "      <td>0</td>\n",
       "      <td>0</td>\n",
       "      <td>9</td>\n",
       "      <td>1967</td>\n",
       "      <td>0.0</td>\n",
       "      <td>66</td>\n",
       "      <td>2660</td>\n",
       "      <td>8712</td>\n",
       "      <td>113555.0</td>\n",
       "      <td>55</td>\n",
       "      <td>2014</td>\n",
       "      <td>2</td>\n",
       "      <td>0</td>\n",
       "      <td>1</td>\n",
       "    </tr>\n",
       "    <tr>\n",
       "      <th>3</th>\n",
       "      <td>236000.0</td>\n",
       "      <td>3</td>\n",
       "      <td>1.00</td>\n",
       "      <td>1300</td>\n",
       "      <td>5898</td>\n",
       "      <td>1.0</td>\n",
       "      <td>0</td>\n",
       "      <td>0</td>\n",
       "      <td>8</td>\n",
       "      <td>1961</td>\n",
       "      <td>0.0</td>\n",
       "      <td>66</td>\n",
       "      <td>1320</td>\n",
       "      <td>7619</td>\n",
       "      <td>113555.0</td>\n",
       "      <td>61</td>\n",
       "      <td>2014</td>\n",
       "      <td>2</td>\n",
       "      <td>0</td>\n",
       "      <td>0</td>\n",
       "    </tr>\n",
       "    <tr>\n",
       "      <th>4</th>\n",
       "      <td>170000.0</td>\n",
       "      <td>2</td>\n",
       "      <td>1.00</td>\n",
       "      <td>860</td>\n",
       "      <td>5265</td>\n",
       "      <td>1.0</td>\n",
       "      <td>0</td>\n",
       "      <td>0</td>\n",
       "      <td>7</td>\n",
       "      <td>1931</td>\n",
       "      <td>0.0</td>\n",
       "      <td>66</td>\n",
       "      <td>1650</td>\n",
       "      <td>8775</td>\n",
       "      <td>113555.0</td>\n",
       "      <td>91</td>\n",
       "      <td>2015</td>\n",
       "      <td>0</td>\n",
       "      <td>0</td>\n",
       "      <td>0</td>\n",
       "    </tr>\n",
       "    <tr>\n",
       "      <th>...</th>\n",
       "      <td>...</td>\n",
       "      <td>...</td>\n",
       "      <td>...</td>\n",
       "      <td>...</td>\n",
       "      <td>...</td>\n",
       "      <td>...</td>\n",
       "      <td>...</td>\n",
       "      <td>...</td>\n",
       "      <td>...</td>\n",
       "      <td>...</td>\n",
       "      <td>...</td>\n",
       "      <td>...</td>\n",
       "      <td>...</td>\n",
       "      <td>...</td>\n",
       "      <td>...</td>\n",
       "      <td>...</td>\n",
       "      <td>...</td>\n",
       "      <td>...</td>\n",
       "      <td>...</td>\n",
       "      <td>...</td>\n",
       "    </tr>\n",
       "    <tr>\n",
       "      <th>20661</th>\n",
       "      <td>1260000.0</td>\n",
       "      <td>3</td>\n",
       "      <td>2.50</td>\n",
       "      <td>3110</td>\n",
       "      <td>9930</td>\n",
       "      <td>1.0</td>\n",
       "      <td>0</td>\n",
       "      <td>0</td>\n",
       "      <td>9</td>\n",
       "      <td>1954</td>\n",
       "      <td>0.0</td>\n",
       "      <td>24</td>\n",
       "      <td>3650</td>\n",
       "      <td>14399</td>\n",
       "      <td>7190.0</td>\n",
       "      <td>68</td>\n",
       "      <td>2014</td>\n",
       "      <td>2</td>\n",
       "      <td>0</td>\n",
       "      <td>1</td>\n",
       "    </tr>\n",
       "    <tr>\n",
       "      <th>20662</th>\n",
       "      <td>1200000.0</td>\n",
       "      <td>4</td>\n",
       "      <td>3.00</td>\n",
       "      <td>2150</td>\n",
       "      <td>8119</td>\n",
       "      <td>2.0</td>\n",
       "      <td>0</td>\n",
       "      <td>0</td>\n",
       "      <td>9</td>\n",
       "      <td>1953</td>\n",
       "      <td>2004.0</td>\n",
       "      <td>24</td>\n",
       "      <td>1590</td>\n",
       "      <td>8119</td>\n",
       "      <td>7190.0</td>\n",
       "      <td>69</td>\n",
       "      <td>2015</td>\n",
       "      <td>1</td>\n",
       "      <td>1</td>\n",
       "      <td>0</td>\n",
       "    </tr>\n",
       "    <tr>\n",
       "      <th>20663</th>\n",
       "      <td>1450000.0</td>\n",
       "      <td>5</td>\n",
       "      <td>2.75</td>\n",
       "      <td>3090</td>\n",
       "      <td>19865</td>\n",
       "      <td>1.0</td>\n",
       "      <td>0</td>\n",
       "      <td>2</td>\n",
       "      <td>10</td>\n",
       "      <td>1953</td>\n",
       "      <td>0.0</td>\n",
       "      <td>24</td>\n",
       "      <td>2970</td>\n",
       "      <td>19862</td>\n",
       "      <td>7190.0</td>\n",
       "      <td>69</td>\n",
       "      <td>2014</td>\n",
       "      <td>3</td>\n",
       "      <td>0</td>\n",
       "      <td>0</td>\n",
       "    </tr>\n",
       "    <tr>\n",
       "      <th>20664</th>\n",
       "      <td>1350000.0</td>\n",
       "      <td>3</td>\n",
       "      <td>2.00</td>\n",
       "      <td>2070</td>\n",
       "      <td>9600</td>\n",
       "      <td>1.0</td>\n",
       "      <td>0</td>\n",
       "      <td>0</td>\n",
       "      <td>8</td>\n",
       "      <td>1946</td>\n",
       "      <td>0.0</td>\n",
       "      <td>24</td>\n",
       "      <td>3000</td>\n",
       "      <td>16215</td>\n",
       "      <td>7190.0</td>\n",
       "      <td>76</td>\n",
       "      <td>2014</td>\n",
       "      <td>2</td>\n",
       "      <td>0</td>\n",
       "      <td>1</td>\n",
       "    </tr>\n",
       "    <tr>\n",
       "      <th>20665</th>\n",
       "      <td>1410000.0</td>\n",
       "      <td>4</td>\n",
       "      <td>2.25</td>\n",
       "      <td>3250</td>\n",
       "      <td>16684</td>\n",
       "      <td>2.0</td>\n",
       "      <td>0</td>\n",
       "      <td>0</td>\n",
       "      <td>10</td>\n",
       "      <td>1979</td>\n",
       "      <td>0.0</td>\n",
       "      <td>24</td>\n",
       "      <td>2890</td>\n",
       "      <td>16927</td>\n",
       "      <td>7190.0</td>\n",
       "      <td>43</td>\n",
       "      <td>2014</td>\n",
       "      <td>1</td>\n",
       "      <td>0</td>\n",
       "      <td>0</td>\n",
       "    </tr>\n",
       "  </tbody>\n",
       "</table>\n",
       "<p>20666 rows × 20 columns</p>\n",
       "</div>"
      ],
      "text/plain": [
       "           price  bedrooms  bathrooms  sqft_living  sqft_lot  floors  \\\n",
       "0       221900.0         3       1.00         1180      5650     1.0   \n",
       "1       205425.0         2       1.00          880      6780     1.0   \n",
       "2       445000.0         3       2.25         2100      8201     1.0   \n",
       "3       236000.0         3       1.00         1300      5898     1.0   \n",
       "4       170000.0         2       1.00          860      5265     1.0   \n",
       "...          ...       ...        ...          ...       ...     ...   \n",
       "20661  1260000.0         3       2.50         3110      9930     1.0   \n",
       "20662  1200000.0         4       3.00         2150      8119     2.0   \n",
       "20663  1450000.0         5       2.75         3090     19865     1.0   \n",
       "20664  1350000.0         3       2.00         2070      9600     1.0   \n",
       "20665  1410000.0         4       2.25         3250     16684     2.0   \n",
       "\n",
       "       waterfront  condition  grade  yr_built  yr_renovated  zipcode  \\\n",
       "0               0          0      8      1955           0.0       66   \n",
       "1               0          2      7      1945           0.0       66   \n",
       "2               0          0      9      1967           0.0       66   \n",
       "3               0          0      8      1961           0.0       66   \n",
       "4               0          0      7      1931           0.0       66   \n",
       "...           ...        ...    ...       ...           ...      ...   \n",
       "20661           0          0      9      1954           0.0       24   \n",
       "20662           0          0      9      1953        2004.0       24   \n",
       "20663           0          2     10      1953           0.0       24   \n",
       "20664           0          0      8      1946           0.0       24   \n",
       "20665           0          0     10      1979           0.0       24   \n",
       "\n",
       "       sqft_living15  sqft_lot15    Income  house_age  year_sold  season  \\\n",
       "0               1340        5650  113555.0         67       2014       3   \n",
       "1               1190        6780  113555.0         77       2014       1   \n",
       "2               2660        8712  113555.0         55       2014       2   \n",
       "3               1320        7619  113555.0         61       2014       2   \n",
       "4               1650        8775  113555.0         91       2015       0   \n",
       "...              ...         ...       ...        ...        ...     ...   \n",
       "20661           3650       14399    7190.0         68       2014       2   \n",
       "20662           1590        8119    7190.0         69       2015       1   \n",
       "20663           2970       19862    7190.0         69       2014       3   \n",
       "20664           3000       16215    7190.0         76       2014       2   \n",
       "20665           2890       16927    7190.0         43       2014       1   \n",
       "\n",
       "       renovated  view_cat  \n",
       "0              0         0  \n",
       "1              0         0  \n",
       "2              0         1  \n",
       "3              0         0  \n",
       "4              0         0  \n",
       "...          ...       ...  \n",
       "20661          0         1  \n",
       "20662          1         0  \n",
       "20663          0         0  \n",
       "20664          0         1  \n",
       "20665          0         0  \n",
       "\n",
       "[20666 rows x 20 columns]"
      ]
     },
     "execution_count": 272,
     "metadata": {},
     "output_type": "execute_result"
    }
   ],
   "source": [
    "df"
   ]
  },
  {
   "cell_type": "code",
   "execution_count": 273,
   "metadata": {},
   "outputs": [],
   "source": [
    "df2 = df.to_numpy()"
   ]
  },
  {
   "cell_type": "code",
   "execution_count": 274,
   "metadata": {},
   "outputs": [
    {
     "data": {
      "text/plain": [
       "array([ 221900.,  205425.,  445000., ..., 1450000., 1350000., 1410000.])"
      ]
     },
     "execution_count": 274,
     "metadata": {},
     "output_type": "execute_result"
    }
   ],
   "source": [
    "y = df2[:, 0]\n",
    "y"
   ]
  },
  {
   "cell_type": "code",
   "execution_count": 275,
   "metadata": {},
   "outputs": [
    {
     "data": {
      "text/plain": [
       "array([[3.00e+00, 1.00e+00, 1.18e+03, ..., 3.00e+00, 0.00e+00, 0.00e+00],\n",
       "       [2.00e+00, 1.00e+00, 8.80e+02, ..., 1.00e+00, 0.00e+00, 0.00e+00],\n",
       "       [3.00e+00, 2.25e+00, 2.10e+03, ..., 2.00e+00, 0.00e+00, 1.00e+00],\n",
       "       ...,\n",
       "       [5.00e+00, 2.75e+00, 3.09e+03, ..., 3.00e+00, 0.00e+00, 0.00e+00],\n",
       "       [3.00e+00, 2.00e+00, 2.07e+03, ..., 2.00e+00, 0.00e+00, 1.00e+00],\n",
       "       [4.00e+00, 2.25e+00, 3.25e+03, ..., 1.00e+00, 0.00e+00, 0.00e+00]])"
      ]
     },
     "execution_count": 275,
     "metadata": {},
     "output_type": "execute_result"
    }
   ],
   "source": [
    "X = df2[:,1:]\n",
    "X"
   ]
  },
  {
   "cell_type": "code",
   "execution_count": 276,
   "metadata": {},
   "outputs": [],
   "source": [
    "X_train, X_test, y_train, y_test = train_test_split(X, y, test_size=0.2, random_state=42)"
   ]
  },
  {
   "cell_type": "code",
   "execution_count": 277,
   "metadata": {},
   "outputs": [
    {
     "name": "stdout",
     "output_type": "stream",
     "text": [
      "(16532, 19)\n",
      "(4134, 19)\n",
      "(16532,)\n",
      "(4134,)\n"
     ]
    }
   ],
   "source": [
    "print(X_train.shape)\n",
    "print(X_test.shape)\n",
    "print(y_train.shape)\n",
    "print(y_test.shape)"
   ]
  },
  {
   "cell_type": "code",
   "execution_count": 278,
   "metadata": {},
   "outputs": [],
   "source": [
    "data_transformation = preprocessing.StandardScaler()\n",
    "data = data_transformation.fit_transform(X_train)"
   ]
  },
  {
   "cell_type": "code",
   "execution_count": 279,
   "metadata": {},
   "outputs": [
    {
     "name": "stdout",
     "output_type": "stream",
     "text": [
      "496237.6535809357\n",
      "[-2.43305411e+04  3.28178923e+04  1.07243780e+05  3.22809408e+03\n",
      "  3.73653116e+04  9.19768604e+03  1.43436406e+04 -1.08537075e+04\n",
      " -3.35963240e+04  1.30320517e+06  1.38847697e+04  5.99956018e+04\n",
      " -1.30739991e+04 -1.08254636e+04  3.35963240e+04  8.62461551e+03\n",
      "  7.22964937e+02 -1.29598006e+06  2.34802078e+04]\n"
     ]
    }
   ],
   "source": [
    "model = LinearRegression().fit(data, y_train)\n",
    "print(model.intercept_)\n",
    "print(model.coef_)"
   ]
  },
  {
   "cell_type": "code",
   "execution_count": 280,
   "metadata": {},
   "outputs": [
    {
     "data": {
      "text/plain": [
       "0.5366167373461688"
      ]
     },
     "execution_count": 280,
     "metadata": {},
     "output_type": "execute_result"
    }
   ],
   "source": [
    "accuracy = model.score(data, y_train)\n",
    "accuracy"
   ]
  },
  {
   "cell_type": "code",
   "execution_count": 281,
   "metadata": {},
   "outputs": [
    {
     "data": {
      "text/plain": [
       "0.549231212203801"
      ]
     },
     "execution_count": 281,
     "metadata": {},
     "output_type": "execute_result"
    }
   ],
   "source": [
    "test_accuracy = model.score(data_transformation.transform((X_test)), y_test)\n",
    "test_accuracy"
   ]
  },
  {
   "cell_type": "code",
   "execution_count": 282,
   "metadata": {},
   "outputs": [],
   "source": [
    "y_pred = model.predict(data_transformation.transform(X_test))"
   ]
  },
  {
   "cell_type": "code",
   "execution_count": 283,
   "metadata": {},
   "outputs": [
    {
     "data": {
      "text/plain": [
       "array([290796.2817386 , 354212.54966264, 699444.44004512, ...,\n",
       "       293899.87160638, 445635.85537969, 478451.17047951])"
      ]
     },
     "execution_count": 283,
     "metadata": {},
     "output_type": "execute_result"
    }
   ],
   "source": [
    "y_pred"
   ]
  },
  {
   "cell_type": "code",
   "execution_count": 284,
   "metadata": {},
   "outputs": [
    {
     "name": "stdout",
     "output_type": "stream",
     "text": [
      "Mean Absolute Error: 123926.62411116919\n",
      "Mean Squared Error: 25949923121.493347\n",
      "Root Mean Squared Error: 161089.79831601176\n"
     ]
    }
   ],
   "source": [
    "print('Mean Absolute Error:', metrics.mean_absolute_error(y_test, y_pred))\n",
    "print('Mean Squared Error:', metrics.mean_squared_error(y_test, y_pred))\n",
    "print('Root Mean Squared Error:', np.sqrt(metrics.mean_squared_error(y_test, y_pred)))"
   ]
  },
  {
   "cell_type": "code",
   "execution_count": 285,
   "metadata": {},
   "outputs": [
    {
     "data": {
      "text/html": [
       "<div>\n",
       "<style scoped>\n",
       "    .dataframe tbody tr th:only-of-type {\n",
       "        vertical-align: middle;\n",
       "    }\n",
       "\n",
       "    .dataframe tbody tr th {\n",
       "        vertical-align: top;\n",
       "    }\n",
       "\n",
       "    .dataframe thead th {\n",
       "        text-align: right;\n",
       "    }\n",
       "</style>\n",
       "<table border=\"1\" class=\"dataframe\">\n",
       "  <thead>\n",
       "    <tr style=\"text-align: right;\">\n",
       "      <th></th>\n",
       "      <th>Actual value</th>\n",
       "      <th>Predicted value</th>\n",
       "      <th>Difference</th>\n",
       "    </tr>\n",
       "  </thead>\n",
       "  <tbody>\n",
       "    <tr>\n",
       "      <th>0</th>\n",
       "      <td>386500.0</td>\n",
       "      <td>290796.28</td>\n",
       "      <td>95703.72</td>\n",
       "    </tr>\n",
       "    <tr>\n",
       "      <th>1</th>\n",
       "      <td>410000.0</td>\n",
       "      <td>354212.55</td>\n",
       "      <td>55787.45</td>\n",
       "    </tr>\n",
       "    <tr>\n",
       "      <th>2</th>\n",
       "      <td>460000.0</td>\n",
       "      <td>699444.44</td>\n",
       "      <td>239444.44</td>\n",
       "    </tr>\n",
       "    <tr>\n",
       "      <th>3</th>\n",
       "      <td>467000.0</td>\n",
       "      <td>608046.01</td>\n",
       "      <td>141046.01</td>\n",
       "    </tr>\n",
       "    <tr>\n",
       "      <th>4</th>\n",
       "      <td>323000.0</td>\n",
       "      <td>361768.91</td>\n",
       "      <td>38768.91</td>\n",
       "    </tr>\n",
       "  </tbody>\n",
       "</table>\n",
       "</div>"
      ],
      "text/plain": [
       "   Actual value  Predicted value  Difference\n",
       "0      386500.0        290796.28    95703.72\n",
       "1      410000.0        354212.55    55787.45\n",
       "2      460000.0        699444.44   239444.44\n",
       "3      467000.0        608046.01   141046.01\n",
       "4      323000.0        361768.91    38768.91"
      ]
     },
     "execution_count": 285,
     "metadata": {},
     "output_type": "execute_result"
    }
   ],
   "source": [
    "model1 = pd.DataFrame({'Actual value': y_test, 'Predicted value': (y_pred.round(2)), \"Difference\" : (abs(y_test-y_pred)).round(2)})\n",
    "model1.head()\n",
    "\n"
   ]
  },
  {
   "cell_type": "code",
   "execution_count": 286,
   "metadata": {},
   "outputs": [
    {
     "data": {
      "text/plain": [
       "Actual value       499070.676826\n",
       "Predicted value    500031.435300\n",
       "Difference         123926.624028\n",
       "dtype: float64"
      ]
     },
     "execution_count": 286,
     "metadata": {},
     "output_type": "execute_result"
    }
   ],
   "source": [
    "model1.mean()"
   ]
  },
  {
   "cell_type": "code",
   "execution_count": 287,
   "metadata": {},
   "outputs": [],
   "source": [
    "model2 = model1.sort_values(\"Difference\", ascending=False)"
   ]
  },
  {
   "cell_type": "code",
   "execution_count": 288,
   "metadata": {},
   "outputs": [
    {
     "data": {
      "text/plain": [
       "Actual value       1.062502e+06\n",
       "Predicted value    6.632132e+05\n",
       "Difference         5.100114e+05\n",
       "dtype: float64"
      ]
     },
     "execution_count": 288,
     "metadata": {},
     "output_type": "execute_result"
    }
   ],
   "source": [
    "model3 = model2.head(100)\n",
    "model3.mean()"
   ]
  },
  {
   "cell_type": "code",
   "execution_count": 289,
   "metadata": {},
   "outputs": [
    {
     "data": {
      "text/html": [
       "<div>\n",
       "<style scoped>\n",
       "    .dataframe tbody tr th:only-of-type {\n",
       "        vertical-align: middle;\n",
       "    }\n",
       "\n",
       "    .dataframe tbody tr th {\n",
       "        vertical-align: top;\n",
       "    }\n",
       "\n",
       "    .dataframe thead th {\n",
       "        text-align: right;\n",
       "    }\n",
       "</style>\n",
       "<table border=\"1\" class=\"dataframe\">\n",
       "  <thead>\n",
       "    <tr style=\"text-align: right;\">\n",
       "      <th></th>\n",
       "      <th>Actual value</th>\n",
       "      <th>Predicted value</th>\n",
       "      <th>Difference</th>\n",
       "    </tr>\n",
       "  </thead>\n",
       "  <tbody>\n",
       "    <tr>\n",
       "      <th>1555</th>\n",
       "      <td>1470000.0</td>\n",
       "      <td>481232.94</td>\n",
       "      <td>988767.06</td>\n",
       "    </tr>\n",
       "    <tr>\n",
       "      <th>503</th>\n",
       "      <td>1440000.0</td>\n",
       "      <td>574892.55</td>\n",
       "      <td>865107.45</td>\n",
       "    </tr>\n",
       "    <tr>\n",
       "      <th>964</th>\n",
       "      <td>1490000.0</td>\n",
       "      <td>646664.14</td>\n",
       "      <td>843335.86</td>\n",
       "    </tr>\n",
       "    <tr>\n",
       "      <th>3102</th>\n",
       "      <td>1300000.0</td>\n",
       "      <td>463254.77</td>\n",
       "      <td>836745.23</td>\n",
       "    </tr>\n",
       "    <tr>\n",
       "      <th>2830</th>\n",
       "      <td>1450000.0</td>\n",
       "      <td>718509.55</td>\n",
       "      <td>731490.45</td>\n",
       "    </tr>\n",
       "  </tbody>\n",
       "</table>\n",
       "</div>"
      ],
      "text/plain": [
       "      Actual value  Predicted value  Difference\n",
       "1555     1470000.0        481232.94   988767.06\n",
       "503      1440000.0        574892.55   865107.45\n",
       "964      1490000.0        646664.14   843335.86\n",
       "3102     1300000.0        463254.77   836745.23\n",
       "2830     1450000.0        718509.55   731490.45"
      ]
     },
     "execution_count": 289,
     "metadata": {},
     "output_type": "execute_result"
    }
   ],
   "source": [
    "model3.head()"
   ]
  },
  {
   "cell_type": "code",
   "execution_count": 290,
   "metadata": {},
   "outputs": [
    {
     "data": {
      "text/plain": [
       "Actual value       1.062502e+06\n",
       "Predicted value    6.632132e+05\n",
       "Difference         5.100114e+05\n",
       "dtype: float64"
      ]
     },
     "execution_count": 290,
     "metadata": {},
     "output_type": "execute_result"
    }
   ],
   "source": [
    "model3.mean()"
   ]
  },
  {
   "cell_type": "code",
   "execution_count": 291,
   "metadata": {},
   "outputs": [
    {
     "data": {
      "image/png": "[encoded data removed]",
      "text/plain": [
       "<Figure size 1440x1440 with 1 Axes>"
      ]
     },
     "metadata": {
      "needs_background": "light"
     },
     "output_type": "display_data"
    }
   ],
   "source": [
    "true_value = model1[\"Actual value\"]\n",
    "predicted_value = model1[\"Predicted value\"]\n",
    "plt.figure(figsize=(20,20))\n",
    "plt.scatter(true_value, predicted_value, c='crimson')\n",
    "plt.yscale('log')\n",
    "plt.xscale('log')\n",
    "\n",
    "p1 = max(max(predicted_value), max(true_value))\n",
    "p2 = min(min(predicted_value), min(true_value))\n",
    "plt.plot([p1, p2], [p1, p2], 'b-')\n",
    "plt.xlabel('True Values', fontsize=15)\n",
    "plt.ylabel('Predictions', fontsize=15)\n",
    "plt.axis('equal')\n",
    "plt.savefig('prediction.png')\n",
    "plt.show()\n",
    "\n"
   ]
  },
  {
   "cell_type": "code",
   "execution_count": 292,
   "metadata": {},
   "outputs": [
    {
     "data": {
      "image/png": "[encoded data removed]",
      "text/plain": [
       "<Figure size 1440x1440 with 1 Axes>"
      ]
     },
     "metadata": {
      "needs_background": "light"
     },
     "output_type": "display_data"
    }
   ],
   "source": [
    "true_value = model3[\"Actual value\"]\n",
    "predicted_value = model3[\"Predicted value\"]\n",
    "plt.figure(figsize=(20,20))\n",
    "plt.scatter(true_value, predicted_value, c='crimson')\n",
    "plt.yscale('log')\n",
    "plt.xscale('log')\n",
    "\n",
    "p1 = max(max(predicted_value), max(true_value))\n",
    "p2 = min(min(predicted_value), min(true_value))\n",
    "plt.plot([p1, p2], [p1, p2], 'b-')\n",
    "plt.xlabel('True Values', fontsize=15)\n",
    "plt.ylabel('Predictions', fontsize=15)\n",
    "plt.axis('equal')\n",
    "plt.savefig('limitations.png')\n",
    "plt.show()\n"
   ]
  },
  {
   "cell_type": "code",
   "execution_count": null,
   "metadata": {},
   "outputs": [],
   "source": []
  },
  {
   "cell_type": "code",
   "execution_count": 293,
   "metadata": {},
   "outputs": [
    {
     "data": {
      "text/html": [
       "<div>\n",
       "<style scoped>\n",
       "    .dataframe tbody tr th:only-of-type {\n",
       "        vertical-align: middle;\n",
       "    }\n",
       "\n",
       "    .dataframe tbody tr th {\n",
       "        vertical-align: top;\n",
       "    }\n",
       "\n",
       "    .dataframe thead th {\n",
       "        text-align: right;\n",
       "    }\n",
       "</style>\n",
       "<table border=\"1\" class=\"dataframe\">\n",
       "  <thead>\n",
       "    <tr style=\"text-align: right;\">\n",
       "      <th></th>\n",
       "      <th>Actual value</th>\n",
       "      <th>Predicted value</th>\n",
       "      <th>Difference</th>\n",
       "    </tr>\n",
       "  </thead>\n",
       "  <tbody>\n",
       "    <tr>\n",
       "      <th>0</th>\n",
       "      <td>386500.0</td>\n",
       "      <td>290796.28</td>\n",
       "      <td>95703.72</td>\n",
       "    </tr>\n",
       "    <tr>\n",
       "      <th>1</th>\n",
       "      <td>410000.0</td>\n",
       "      <td>354212.55</td>\n",
       "      <td>55787.45</td>\n",
       "    </tr>\n",
       "    <tr>\n",
       "      <th>2</th>\n",
       "      <td>460000.0</td>\n",
       "      <td>699444.44</td>\n",
       "      <td>239444.44</td>\n",
       "    </tr>\n",
       "    <tr>\n",
       "      <th>3</th>\n",
       "      <td>467000.0</td>\n",
       "      <td>608046.01</td>\n",
       "      <td>141046.01</td>\n",
       "    </tr>\n",
       "    <tr>\n",
       "      <th>4</th>\n",
       "      <td>323000.0</td>\n",
       "      <td>361768.91</td>\n",
       "      <td>38768.91</td>\n",
       "    </tr>\n",
       "  </tbody>\n",
       "</table>\n",
       "</div>"
      ],
      "text/plain": [
       "   Actual value  Predicted value  Difference\n",
       "0      386500.0        290796.28    95703.72\n",
       "1      410000.0        354212.55    55787.45\n",
       "2      460000.0        699444.44   239444.44\n",
       "3      467000.0        608046.01   141046.01\n",
       "4      323000.0        361768.91    38768.91"
      ]
     },
     "execution_count": 293,
     "metadata": {},
     "output_type": "execute_result"
    }
   ],
   "source": [
    "model2 = pd.DataFrame({'Actual value': y_test, 'Predicted value': (y_pred.round(2)), \"Difference\" : (abs(y_test-y_pred)).round(2)})\n",
    "model2.head()"
   ]
  },
  {
   "cell_type": "code",
   "execution_count": 294,
   "metadata": {},
   "outputs": [],
   "source": [
    "model2.to_csv(\"data/predictions.csv\")"
   ]
  },
  {
   "cell_type": "code",
   "execution_count": 295,
   "metadata": {},
   "outputs": [],
   "source": [
    "model3.to_csv(\"data/high_error_preds.csv\")"
   ]
  },
  {
   "cell_type": "code",
   "execution_count": 296,
   "metadata": {},
   "outputs": [
    {
     "data": {
      "text/plain": [
       "161089.79831601176"
      ]
     },
     "execution_count": 296,
     "metadata": {},
     "output_type": "execute_result"
    }
   ],
   "source": [
    "MSE = np.square(np.subtract(y_test,y_pred)).mean() \n",
    " \n",
    "RMSE = math.sqrt(MSE)\n",
    "RMSE\n"
   ]
  },
  {
   "cell_type": "code",
   "execution_count": 297,
   "metadata": {},
   "outputs": [
    {
     "data": {
      "text/plain": [
       "4134"
      ]
     },
     "execution_count": 297,
     "metadata": {},
     "output_type": "execute_result"
    }
   ],
   "source": [
    "len(X_test)"
   ]
  },
  {
   "cell_type": "code",
   "execution_count": 298,
   "metadata": {},
   "outputs": [
    {
     "data": {
      "text/plain": [
       "4134"
      ]
     },
     "execution_count": 298,
     "metadata": {},
     "output_type": "execute_result"
    }
   ],
   "source": [
    "len(y_test)"
   ]
  },
  {
   "cell_type": "code",
   "execution_count": 299,
   "metadata": {},
   "outputs": [
    {
     "data": {
      "image/png": "[encoded data removed]",
      "text/plain": [
       "<Figure size 360x144 with 1 Axes>"
      ]
     },
     "metadata": {
      "needs_background": "light"
     },
     "output_type": "display_data"
    }
   ],
   "source": [
    "preds = model.predict(X_test)\n",
    "fig, ax = plt.subplots()\n",
    "\n",
    "perfect_line = np.arange(y_test.min(), y_test.max())\n",
    "ax.plot(perfect_line, linestyle=\"--\", color=\"orange\", label=\"Perfect Fit\")\n",
    "ax.scatter(y_test, preds, alpha=0.5)\n",
    "ax.set_xlabel(\"Actual Price\")\n",
    "ax.set_ylabel(\"Predicted Price\")\n",
    "ax.legend();"
   ]
  },
  {
   "cell_type": "code",
   "execution_count": 300,
   "metadata": {},
   "outputs": [
    {
     "data": {
      "image/png": "[encoded data removed]",
      "text/plain": [
       "<Figure size 360x144 with 1 Axes>"
      ]
     },
     "metadata": {
      "needs_background": "light"
     },
     "output_type": "display_data"
    }
   ],
   "source": [
    "import scipy.stats as stats\n",
    "residuals = (y_test - preds)\n",
    "sm.graphics.qqplot(residuals, dist=stats.norm, line='45', fit=True);"
   ]
  },
  {
   "cell_type": "code",
   "execution_count": 301,
   "metadata": {},
   "outputs": [
    {
     "data": {
      "image/png": "[encoded data removed]",
      "text/plain": [
       "<Figure size 360x144 with 1 Axes>"
      ]
     },
     "metadata": {
      "needs_background": "light"
     },
     "output_type": "display_data"
    }
   ],
   "source": [
    "fig, ax = plt.subplots()\n",
    "\n",
    "ax.scatter(preds, residuals, alpha=0.5)\n",
    "ax.plot(preds, [0 for i in range(len(X_test))])\n",
    "ax.set_xlabel(\"Predicted Value\")\n",
    "ax.set_ylabel(\"Actual - Predicted Value\");"
   ]
  },
  {
   "cell_type": "code",
   "execution_count": null,
   "metadata": {},
   "outputs": [],
   "source": []
  }
 ],
 "metadata": {
  "kernelspec": {
   "display_name": "Python 3 (ipykernel)",
   "language": "python",
   "name": "python3"
  },
  "language_info": {
   "codemirror_mode": {
    "name": "ipython",
    "version": 3
   },
   "file_extension": ".py",
   "mimetype": "text/x-python",
   "name": "python",
   "nbconvert_exporter": "python",
   "pygments_lexer": "ipython3",
   "version": "3.8.12"
  }
 },
 "nbformat": 4,
 "nbformat_minor": 4
}
